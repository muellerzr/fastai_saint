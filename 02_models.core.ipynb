{
 "cells": [
  {
   "cell_type": "code",
   "execution_count": null,
   "metadata": {},
   "outputs": [],
   "source": [
    "#default_exp models.core"
   ]
  },
  {
   "cell_type": "markdown",
   "metadata": {},
   "source": [
    "# Model Foundations\n",
    "> Core aspects to building a `SAINT` model"
   ]
  },
  {
   "cell_type": "code",
   "execution_count": null,
   "metadata": {},
   "outputs": [],
   "source": [
    "#hide\n",
    "from nbdev.showdoc import *\n",
    "from fastcore.test import *"
   ]
  },
  {
   "cell_type": "code",
   "execution_count": null,
   "metadata": {},
   "outputs": [],
   "source": [
    "#export\n",
    "import torch\n",
    "import torch.nn.functional as F\n",
    "from torch import nn, einsum\n",
    "import numpy as np\n",
    "from einops import rearrange\n",
    "\n",
    "from fastai.layers import Module\n",
    "\n",
    "from fastcore.basics import mk_class"
   ]
  },
  {
   "cell_type": "code",
   "execution_count": null,
   "metadata": {},
   "outputs": [],
   "source": [
    "#export\n",
    "_all_ = ['AttentionType']"
   ]
  },
  {
   "cell_type": "markdown",
   "metadata": {},
   "source": [
    "## Helper Functions"
   ]
  },
  {
   "cell_type": "code",
   "execution_count": null,
   "metadata": {},
   "outputs": [],
   "source": [
    "#export\n",
    "def exists(\n",
    "    val # Any value\n",
    "):\n",
    "    \"Tests if `val` is not None\"\n",
    "    return val is not None"
   ]
  },
  {
   "cell_type": "code",
   "execution_count": null,
   "metadata": {},
   "outputs": [],
   "source": [
    "#hide\n",
    "a = 'blah'\n",
    "test_eq(exists(a), True)"
   ]
  },
  {
   "cell_type": "code",
   "execution_count": null,
   "metadata": {},
   "outputs": [],
   "source": [
    "#hide\n",
    "b = None\n",
    "test_eq(exists(b), False)"
   ]
  },
  {
   "cell_type": "code",
   "execution_count": null,
   "metadata": {},
   "outputs": [],
   "source": [
    "#export\n",
    "def default(\n",
    "    val, # Any value\n",
    "    d # Some default for `val`\n",
    "):\n",
    "    \"Get a default if `val` doesn't exist\"\n",
    "    return val if exists(val) else d"
   ]
  },
  {
   "cell_type": "code",
   "execution_count": null,
   "metadata": {},
   "outputs": [],
   "source": [
    "#hide\n",
    "a = None\n",
    "d = 42\n",
    "test_eq(default(a,d), 42)"
   ]
  },
  {
   "cell_type": "code",
   "execution_count": null,
   "metadata": {},
   "outputs": [],
   "source": [
    "#export\n",
    "def ff_encodings(\n",
    "    x:torch.tensor, # Input\n",
    "    B:torch.tensor # Projection matrix\n",
    "):\n",
    "    \"Return sin and cosine projections of `x` @ `B`\"\n",
    "    x_proj = (2. * np.pi * x.unsqueeze(-1)) @ B.t()\n",
    "    return torch.cat([torch.sin(x_proj), torch.cos(x_proj)], dim=-1)"
   ]
  },
  {
   "cell_type": "markdown",
   "metadata": {},
   "source": [
    "## Basic Layers"
   ]
  },
  {
   "cell_type": "code",
   "execution_count": null,
   "metadata": {},
   "outputs": [],
   "source": [
    "#export\n",
    "class Residual(Module):\n",
    "    def __init__(\n",
    "        self,\n",
    "        fn:callable, # A function to generate a residual\n",
    "    ):\n",
    "        \"A layer that adds a residual `fn` to x\"\n",
    "        self.fn = fn\n",
    "    \n",
    "    def forward(\n",
    "        self,\n",
    "        x:torch.tensor, # An input\n",
    "        **kwargs, # kwargs for `self.fn`\n",
    "    ):\n",
    "        \"Applies `self.fn` to x\"\n",
    "        return self.fn(x, **kwargs) + x"
   ]
  },
  {
   "cell_type": "code",
   "execution_count": null,
   "metadata": {},
   "outputs": [
    {
     "data": {
      "text/markdown": [
       "<h4 id=\"Residual.forward\" class=\"doc_header\"><code>Residual.forward</code><a href=\"__main__.py#L10\" class=\"source_link\" style=\"float:right\">[source]</a></h4>\n",
       "\n",
       "> <code>Residual.forward</code>(**`x`**:`tensor`, **\\*\\*`kwargs`**)\n",
       "\n",
       "Applies `self.fn` to x\n",
       "\n",
       "**Function Arguments**:\n",
       "* `x` (`torch.tensor`): An input\n",
       "* `**kwargs`: kwargs for `self.fn`\n"
      ],
      "text/plain": [
       "<IPython.core.display.Markdown object>"
      ]
     },
     "metadata": {},
     "output_type": "display_data"
    }
   ],
   "source": [
    "show_doc(Residual.forward)"
   ]
  },
  {
   "cell_type": "code",
   "execution_count": null,
   "metadata": {},
   "outputs": [],
   "source": [
    "#export\n",
    "class PreNorm(Module):\n",
    "    def __init__(\n",
    "        self, \n",
    "        dim:int, # LayerNorm dimension\n",
    "        fn:callable # Residual function\n",
    "    ):\n",
    "        \"Layer norm that is applied before calling a residual function\"\n",
    "        self.norm = nn.LayerNorm(dim)\n",
    "        self.fn = fn\n",
    "\n",
    "    def forward(\n",
    "        self, \n",
    "        x:torch.tensor, # An input\n",
    "        **kwargs # kwargs for `self.fn`\n",
    "    ):\n",
    "        \"Applies `self.fn` to the output of `self.norm(x)`\"\n",
    "        return self.fn(self.norm(x), **kwargs)"
   ]
  },
  {
   "cell_type": "code",
   "execution_count": null,
   "metadata": {},
   "outputs": [
    {
     "data": {
      "text/markdown": [
       "<h4 id=\"PreNorm.forward\" class=\"doc_header\"><code>PreNorm.forward</code><a href=\"__main__.py#L12\" class=\"source_link\" style=\"float:right\">[source]</a></h4>\n",
       "\n",
       "> <code>PreNorm.forward</code>(**`x`**:`tensor`, **\\*\\*`kwargs`**)\n",
       "\n",
       "Applies `self.fn` to the output of `self.norm(x)`\n",
       "\n",
       "**Function Arguments**:\n",
       "* `x` (`torch.tensor`): An input\n",
       "* `**kwargs`: kwargs for `self.fn`\n"
      ],
      "text/plain": [
       "<IPython.core.display.Markdown object>"
      ]
     },
     "metadata": {},
     "output_type": "display_data"
    }
   ],
   "source": [
    "show_doc(PreNorm.forward)"
   ]
  },
  {
   "cell_type": "markdown",
   "metadata": {},
   "source": [
    "## Attention Layers"
   ]
  },
  {
   "cell_type": "code",
   "execution_count": null,
   "metadata": {},
   "outputs": [],
   "source": [
    "#export\n",
    "class GEGLU(Module):\n",
    "    \"GLU variation introduced in GLU Variants Improve Transformer\"\n",
    "    def forward(\n",
    "        self, \n",
    "        x:torch.tensor, # An input\n",
    "    ):\n",
    "        \"Chunks `x` into 2, applies `F.gelu` to chunks, and returns product with `x`\"\n",
    "        x, gates = x.chunk(2, dim = -1)\n",
    "        return x * F.gelu(gates)"
   ]
  },
  {
   "cell_type": "code",
   "execution_count": null,
   "metadata": {},
   "outputs": [
    {
     "data": {
      "text/markdown": [
       "<h4 id=\"GEGLU.forward\" class=\"doc_header\"><code>GEGLU.forward</code><a href=\"__main__.py#L4\" class=\"source_link\" style=\"float:right\">[source]</a></h4>\n",
       "\n",
       "> <code>GEGLU.forward</code>(**`x`**:`tensor`)\n",
       "\n",
       "Chunks `x` into 2, applies `F.gelu` to chunks, and returns product with `x`\n",
       "\n",
       "**Function Arguments**:\n",
       "* `x` (`torch.tensor`): An input\n"
      ],
      "text/plain": [
       "<IPython.core.display.Markdown object>"
      ]
     },
     "metadata": {},
     "output_type": "display_data"
    }
   ],
   "source": [
    "show_doc(GEGLU.forward)"
   ]
  },
  {
   "cell_type": "code",
   "execution_count": null,
   "metadata": {},
   "outputs": [],
   "source": [
    "#export\n",
    "class FeedForward(nn.Sequential):\n",
    "    def __init__(\n",
    "        self, \n",
    "        dim:int, # Linear layer dimension \n",
    "        mult:int = 4, # Multiplier for `dim` \n",
    "        dropout:(int,float) = 0., # Dropout probability\n",
    "    ):\n",
    "        \"Feed-Forward Layer\"\n",
    "        layers = [\n",
    "            nn.Linear(dim, dim * mult * 2),\n",
    "            GEGLU(),\n",
    "            nn.Dropout(dropout),\n",
    "            nn.Linear(dim * mult, dim)\n",
    "        ]\n",
    "        super().__init__(*layers)\n",
    "\n",
    "    def forward(\n",
    "        self, \n",
    "        x:torch.tensor, # An input\n",
    "    ):\n",
    "        \"Applies x to a `Linear` -> `GEGLU` -> `Dropout` -> `Linear` group\"\n",
    "        return super().forward(x)"
   ]
  },
  {
   "cell_type": "code",
   "execution_count": null,
   "metadata": {},
   "outputs": [
    {
     "data": {
      "text/markdown": [
       "<h4 id=\"FeedForward.forward\" class=\"doc_header\"><code>FeedForward.forward</code><a href=\"__main__.py#L18\" class=\"source_link\" style=\"float:right\">[source]</a></h4>\n",
       "\n",
       "> <code>FeedForward.forward</code>(**`x`**:`tensor`)\n",
       "\n",
       "Applies x to a `Linear` -> `GEGLU` -> `Dropout` -> `Linear` group\n",
       "\n",
       "**Function Arguments**:\n",
       "* `x` (`torch.tensor`): An input\n"
      ],
      "text/plain": [
       "<IPython.core.display.Markdown object>"
      ]
     },
     "metadata": {},
     "output_type": "display_data"
    }
   ],
   "source": [
    "show_doc(FeedForward.forward)"
   ]
  },
  {
   "cell_type": "code",
   "execution_count": null,
   "metadata": {},
   "outputs": [],
   "source": [
    "#export\n",
    "class Attention(Module):\n",
    "    def __init__(\n",
    "        self,\n",
    "        dim:int, # Dimension for the Linear groups\n",
    "        heads:int = 8, # Number of attention heads\n",
    "        dim_head:int = 16, # Dimension of the attention heads\n",
    "        dropout:float = 0. # Dropout probability\n",
    "    ):\n",
    "        \"A basic attention wrt module\"\n",
    "        inner_dim = dim_head * heads\n",
    "        self.heads = heads\n",
    "        self.scale = dim_head ** -0.5\n",
    "\n",
    "        self.to_qkv = nn.Linear(dim, inner_dim * 3, bias = False)\n",
    "        self.to_out = nn.Linear(inner_dim, dim)\n",
    "\n",
    "        self.dropout = nn.Dropout(dropout)\n",
    "\n",
    "    def forward(\n",
    "        self, \n",
    "        x:torch.tensor # An input\n",
    "    ):\n",
    "        \"Applies attention to `x`\"\n",
    "        h = self.heads\n",
    "        q, k, v = self.to_qkv(x).chunk(3, dim = -1)\n",
    "        q, k, v = map(lambda t: rearrange(t, 'b n (h d) -> b h n d', h = h), (q, k, v))\n",
    "        sim = einsum('b h i d, b h j d -> b h i j', q, k) * self.scale\n",
    "        attn = sim.softmax(dim = -1)\n",
    "        out = einsum('b h i j, b h j d -> b h i d', attn, v)\n",
    "        out = rearrange(out, 'b h n d -> b n (h d)', h = h)\n",
    "        return self.to_out(out)"
   ]
  },
  {
   "cell_type": "code",
   "execution_count": null,
   "metadata": {},
   "outputs": [
    {
     "data": {
      "text/markdown": [
       "<h4 id=\"Attention.forward\" class=\"doc_header\"><code>Attention.forward</code><a href=\"__main__.py#L20\" class=\"source_link\" style=\"float:right\">[source]</a></h4>\n",
       "\n",
       "> <code>Attention.forward</code>(**`x`**:`tensor`)\n",
       "\n",
       "Applies attention to `x`\n",
       "\n",
       "**Function Arguments**:\n",
       "* `x` (`torch.tensor`): An input\n"
      ],
      "text/plain": [
       "<IPython.core.display.Markdown object>"
      ]
     },
     "metadata": {},
     "output_type": "display_data"
    }
   ],
   "source": [
    "show_doc(Attention.forward)"
   ]
  },
  {
   "cell_type": "code",
   "execution_count": null,
   "metadata": {},
   "outputs": [],
   "source": [
    "#export\n",
    "mk_class('AttentionType', **{'Column':'col', 'ColumnRow':'colrow'},\n",
    "        doc=\"All possible attention types, with typo-proofing and auto-complete\")"
   ]
  },
  {
   "cell_type": "code",
   "execution_count": null,
   "metadata": {},
   "outputs": [
    {
     "data": {
      "text/markdown": [
       "<h3 id=\"AttentionType\" class=\"doc_header\"><code>class</code> <code>AttentionType</code><a href=\"\" class=\"source_link\" style=\"float:right\">[source]</a></h3>\n",
       "\n",
       "> <code>AttentionType</code>(**\\*`args`**, **\\*\\*`kwargs`**)\n",
       "\n",
       "All possible attention types, with typo-proofing and auto-complete\n",
       "\n"
      ],
      "text/plain": [
       "<IPython.core.display.Markdown object>"
      ]
     },
     "metadata": {},
     "output_type": "display_data"
    }
   ],
   "source": [
    "show_doc(AttentionType, title_level=3)"
   ]
  },
  {
   "cell_type": "code",
   "execution_count": null,
   "metadata": {},
   "outputs": [],
   "source": [
    "#export\n",
    "class RowColAttention(Module):\n",
    "    def __init__(\n",
    "        self, \n",
    "        num_tokens:int, # Size of the categorical embeddings\n",
    "        dim:int, # Dimension of the two Embedding layers\n",
    "        nfeats:int, # Number of continuous features\n",
    "        depth:int, # The number of attention modules to generate \n",
    "        heads:int, # Number of attention heads \n",
    "        dim_head:int = 16, # Dimension of the attention heads\n",
    "        attn_dropout:float = 0., # Dropout probability in the attention module\n",
    "        ff_dropout:float = 0., # Dropout probability for the feed forward layers\n",
    "        style:AttentionType = AttentionType.Column # Attention style\n",
    "    ):\n",
    "        \"A small Transformer that generates attention based on a row and column\"\n",
    "        self.embeds = nn.Embedding(num_tokens, dim)\n",
    "        self.layers = nn.ModuleList([])\n",
    "        self.mask_embed =  nn.Embedding(nfeats, dim)\n",
    "        self.style = style\n",
    "        for _ in range(depth):\n",
    "            if self.style == 'colrow':\n",
    "                self.layers.append(nn.ModuleList([\n",
    "                    PreNorm(dim, Residual(Attention(dim, heads = heads, dim_head = dim_head, dropout = attn_dropout))),\n",
    "                    PreNorm(dim, Residual(FeedForward(dim, dropout = ff_dropout))),\n",
    "                    PreNorm(dim*nfeats, Residual(Attention(dim*nfeats, heads = heads, dim_head = 64, dropout = attn_dropout))),\n",
    "                    PreNorm(dim*nfeats, Residual(FeedForward(dim*nfeats, dropout = ff_dropout))),\n",
    "                ]))\n",
    "            elif self.style == 'col':\n",
    "                self.layers.append(nn.ModuleList([\n",
    "                    PreNorm(dim*nfeats, Residual(Attention(dim*nfeats, heads = heads, dim_head = 64, dropout = attn_dropout))),\n",
    "                    PreNorm(dim*nfeats, Residual(FeedForward(dim*nfeats, dropout = ff_dropout))),\n",
    "                ]))\n",
    "            else:\n",
    "                raise NotImplementedError(f'Attention style {style} is currently not supported, please choose a valid `AttentionType`')\n",
    "\n",
    "    def forward(\n",
    "        self, \n",
    "        x, # Categorical inputs\n",
    "        x_cont=None, # Continuous inputs\n",
    "        mask = None # Mask of our y's\n",
    "    ):\n",
    "        \"Applies an attention mechanism on inputs\"\n",
    "        if x_cont is not None:\n",
    "            x = torch.cat((x,x_cont),dim=1)\n",
    "        _, n, _ = x.shape\n",
    "        if self.style == 'colrow':\n",
    "            for attn1, ff1, attn2, ff2 in self.layers: \n",
    "                x = attn1(x)\n",
    "                x = ff1(x)\n",
    "                x = rearrange(x, 'b n d -> 1 b (n d)')\n",
    "                x = attn2(x)\n",
    "                x = ff2(x)\n",
    "                x = rearrange(x, '1 b (n d) -> b n d', n = n)\n",
    "        else:\n",
    "             for attn1, ff1 in self.layers:\n",
    "                x = rearrange(x, 'b n d -> 1 b (n d)')\n",
    "                x = attn1(x)\n",
    "                x = ff1(x)\n",
    "                x = rearrange(x, '1 b (n d) -> b n d', n = n)\n",
    "        return x"
   ]
  },
  {
   "cell_type": "code",
   "execution_count": null,
   "metadata": {},
   "outputs": [
    {
     "data": {
      "text/markdown": [
       "<h4 id=\"RowColAttention.forward\" class=\"doc_header\"><code>RowColAttention.forward</code><a href=\"__main__.py#L36\" class=\"source_link\" style=\"float:right\">[source]</a></h4>\n",
       "\n",
       "> <code>RowColAttention.forward</code>(**`x`**, **`x_cont`**=*`None`*, **`mask`**=*`None`*)\n",
       "\n",
       "Applies an attention mechanism on inputs\n",
       "\n",
       "**Function Arguments**:\n",
       "* `x`: Categorical inputs\n",
       "* `x_cont`: Continuous inputs\n"
      ],
      "text/plain": [
       "<IPython.core.display.Markdown object>"
      ]
     },
     "metadata": {},
     "output_type": "display_data"
    }
   ],
   "source": [
    "show_doc(RowColAttention.forward)"
   ]
  },
  {
   "cell_type": "code",
   "execution_count": null,
   "metadata": {},
   "outputs": [],
   "source": [
    "#export\n",
    "class Transformer(Module):\n",
    "    def __init__(\n",
    "        self, \n",
    "        num_tokens:int, # Size of the categorical embeddings in the `Attention` layer\n",
    "        dim:int, # Dimension of the two Embedding layers in the `Attention` layer\n",
    "        depth:int, # The number of attention modules to generate in the `Attention` layer\n",
    "        heads:int, # Number of attention heads in the `Attention` layer\n",
    "        dim_head:int = 16, # Dimension of the attention heads in the `Attention` layer\n",
    "        attn_dropout:float = 0., # Dropout probability in the `Attention` layer\n",
    "        ff_dropout:float = 0., # Dropout probability for the feed forward layers\n",
    "    ):\n",
    "        \"A basic feed forward Transformer module with attention\"\n",
    "        self.layers = nn.ModuleList([])\n",
    "\n",
    "\n",
    "        for _ in range(depth):\n",
    "            self.layers.append(nn.ModuleList([\n",
    "                PreNorm(dim, Residual(Attention(dim, heads = heads, dim_head = dim_head, dropout = attn_dropout))),\n",
    "                PreNorm(dim, Residual(FeedForward(dim, dropout = ff_dropout))),\n",
    "            ]))\n",
    "\n",
    "    def forward(\n",
    "        self, \n",
    "        x, # Categorical inputs\n",
    "        x_cont=None, # Continuous inputs\n",
    "    ):\n",
    "        \"Applies attention to inputs\"\n",
    "        if x_cont is not None:\n",
    "            x = torch.cat((x,x_cont),dim=1)\n",
    "        for attn, ff in self.layers:\n",
    "            x = attn(x)\n",
    "            x = ff(x)\n",
    "        return x"
   ]
  },
  {
   "cell_type": "code",
   "execution_count": null,
   "metadata": {},
   "outputs": [
    {
     "data": {
      "text/markdown": [
       "<h4 id=\"Transformer.forward\" class=\"doc_header\"><code>Transformer.forward</code><a href=\"__main__.py#L23\" class=\"source_link\" style=\"float:right\">[source]</a></h4>\n",
       "\n",
       "> <code>Transformer.forward</code>(**`x`**, **`x_cont`**=*`None`*)\n",
       "\n",
       "Applies attention to inputs\n",
       "\n",
       "**Function Arguments**:\n",
       "* `x`: Categorical inputs\n",
       "* `x_cont`: Continuous inputs\n"
      ],
      "text/plain": [
       "<IPython.core.display.Markdown object>"
      ]
     },
     "metadata": {},
     "output_type": "display_data"
    }
   ],
   "source": [
    "show_doc(Transformer.forward)"
   ]
  },
  {
   "cell_type": "code",
   "execution_count": null,
   "metadata": {},
   "outputs": [],
   "source": [
    "#export\n",
    "class MLP(Module):\n",
    "    def __init__(\n",
    "        self, \n",
    "        dims:list, # A list of dimensions for the module\n",
    "        act = None # An activation function, such as `GEGLU`\n",
    "    ):\n",
    "        \"A basic multi-layer perceptron module\"\n",
    "        dims_pairs = list(zip(dims[:-1], dims[1:]))\n",
    "        layers = []\n",
    "        for ind, (dim_in, dim_out) in enumerate(dims_pairs):\n",
    "            is_last = ind >= (len(dims) - 1)\n",
    "            linear = nn.Linear(dim_in, dim_out)\n",
    "            layers.append(linear)\n",
    "\n",
    "            if is_last:\n",
    "                continue\n",
    "            if act is not None:\n",
    "                layers.append(act)\n",
    "\n",
    "        self.mlp = nn.Sequential(*layers)\n",
    "\n",
    "    def forward(\n",
    "        self, \n",
    "        x:torch.tensor # An input\n",
    "    ):\n",
    "        \"Applies mlp on `x`\"\n",
    "        return self.mlp(x)"
   ]
  },
  {
   "cell_type": "code",
   "execution_count": null,
   "metadata": {},
   "outputs": [
    {
     "data": {
      "text/markdown": [
       "<h4 id=\"MLP.forward\" class=\"doc_header\"><code>MLP.forward</code><a href=\"__main__.py#L23\" class=\"source_link\" style=\"float:right\">[source]</a></h4>\n",
       "\n",
       "> <code>MLP.forward</code>(**`x`**:`tensor`)\n",
       "\n",
       "Applies mlp on `x`\n",
       "\n",
       "**Function Arguments**:\n",
       "* `x` (`torch.tensor`): An input\n"
      ],
      "text/plain": [
       "<IPython.core.display.Markdown object>"
      ]
     },
     "metadata": {},
     "output_type": "display_data"
    }
   ],
   "source": [
    "show_doc(MLP.forward)"
   ]
  },
  {
   "cell_type": "code",
   "execution_count": null,
   "metadata": {},
   "outputs": [],
   "source": [
    "#export\n",
    "class SimpleMLP(nn.Sequential):\n",
    "    def __init__(\n",
    "        self,\n",
    "        dims:list # A list of three dimensions for our MLP module\n",
    "    ):\n",
    "        \"Simplified multi-layer perceptron\"\n",
    "        layers = [\n",
    "            nn.Linear(dims[0], dims[1]),\n",
    "            nn.ReLU(),\n",
    "            nn.Linear(dims[1], dims[2])\n",
    "        ]\n",
    "        super().__init__(*layers)\n",
    "    \n",
    "    def forward(\n",
    "        self,\n",
    "        x:torch.tensor # A tensor input\n",
    "    ):\n",
    "        \"Applies simplified MLP on `x`\"\n",
    "        if len(x.shape) == 1: \n",
    "            x = x.view(x.shape(0), -1)\n",
    "        return super().forward(x)"
   ]
  },
  {
   "cell_type": "code",
   "execution_count": null,
   "metadata": {},
   "outputs": [
    {
     "data": {
      "text/markdown": [
       "<h4 id=\"SimpleMLP.forward\" class=\"doc_header\"><code>SimpleMLP.forward</code><a href=\"__main__.py#L15\" class=\"source_link\" style=\"float:right\">[source]</a></h4>\n",
       "\n",
       "> <code>SimpleMLP.forward</code>(**`x`**:`tensor`)\n",
       "\n",
       "Applies simplified MLP on `x`\n",
       "\n",
       "**Function Arguments**:\n",
       "* `x` (`torch.tensor`): A tensor input\n"
      ],
      "text/plain": [
       "<IPython.core.display.Markdown object>"
      ]
     },
     "metadata": {},
     "output_type": "display_data"
    }
   ],
   "source": [
    "show_doc(SimpleMLP.forward)"
   ]
  },
  {
   "cell_type": "code",
   "execution_count": null,
   "metadata": {},
   "outputs": [],
   "source": [
    "#export\n",
    "from typing import Tuple"
   ]
  },
  {
   "cell_type": "code",
   "execution_count": null,
   "metadata": {},
   "outputs": [],
   "source": [
    "#export\n",
    "class TabAttention(nn.Module):\n",
    "    def __init__(\n",
    "        self,\n",
    "        categories:list, # List of categorical cardinalities\n",
    "        num_continuous:int, # Number of continuous variables\n",
    "        dim:int, # MLP dimension\n",
    "        depth:int, # Transformer depth\n",
    "        heads:int, # Number of attention heads\n",
    "        dim_head:int = 16, # Size of the attention head\n",
    "        dim_out:int = 1, # Size of the last linear layer\n",
    "        mlp_hidden_mults:Tuple[int] = (4, 2), # Multipliers for the MLP hidden layers\n",
    "        mlp_act = None, # Activation class of the MLP module, such as `GEGLU`\n",
    "        num_special_tokens:int = 1, # Number of special tokens for the categories\n",
    "        attn_dropout:float = 0., # Dropout probability for the attention module\n",
    "        ff_dropout:float = 0., # Dropout probability for the feed forward layers\n",
    "        lastmlp_dropout:float = 0., # Dropout probability for the final MLP group\n",
    "        cont_embeddings:str = 'MLP', # Type of embeddings for the continouous variables, only `MLP` is available. If `None` no attention is applied\n",
    "        attention_style:AttentionType = AttentionType.Column # Attention style\n",
    "    ):\n",
    "        assert all(map(lambda n: n > 0, categories)), 'number of each category must be positive'\n",
    "\n",
    "        # categories related calculations\n",
    "        self.num_categories = len(categories)\n",
    "        self.num_unique_categories = sum(categories)\n",
    "\n",
    "        # create category embeddings table\n",
    "\n",
    "        self.num_special_tokens = num_special_tokens\n",
    "        self.total_tokens = self.num_unique_categories + num_special_tokens\n",
    "\n",
    "        # for automatically offsetting unique category ids to the correct position in the categories embedding table\n",
    "        categories_offset = F.pad(torch.tensor(list(categories)), (1, 0), value = num_special_tokens)\n",
    "        categories_offset = categories_offset.cumsum(dim = -1)[:-1]\n",
    "        \n",
    "        self.register_buffer('categories_offset', categories_offset)\n",
    "\n",
    "\n",
    "        self.norm = nn.LayerNorm(num_continuous)\n",
    "        self.num_continuous = num_continuous\n",
    "        self.dim = dim\n",
    "        self.cont_embeddings = cont_embeddings\n",
    "        self.attentiontype = attentiontype\n",
    "\n",
    "        if self.cont_embeddings == 'MLP':\n",
    "            self.simple_MLP = nn.ModuleList([simple_MLP([1,100,self.dim]) for _ in range(self.num_continuous)])\n",
    "            input_size = (dim * self.num_categories)  + (dim * num_continuous)\n",
    "            nfeats = self.num_categories + num_continuous\n",
    "        else:\n",
    "            print('Continous features are not passed through attention')\n",
    "            input_size = (dim * self.num_categories) + num_continuous\n",
    "            nfeats = self.num_categories \n",
    "\n",
    "        # transformer\n",
    "        if attention_style == 'col':\n",
    "            self.transformer = Transformer(\n",
    "                num_tokens = self.total_tokens,\n",
    "                dim = dim,\n",
    "                depth = depth,\n",
    "                heads = heads,\n",
    "                dim_head = dim_head,\n",
    "                attn_dropout = attn_dropout,\n",
    "                ff_dropout = ff_dropout\n",
    "            )\n",
    "        elif attention_style == 'colrow':\n",
    "            self.transformer = RowColTransformer(\n",
    "                num_tokens = self.total_tokens,\n",
    "                dim = dim,\n",
    "                nfeats= nfeats,\n",
    "                depth = depth,\n",
    "                heads = heads,\n",
    "                dim_head = dim_head,\n",
    "                attn_dropout = attn_dropout,\n",
    "                ff_dropout = ff_dropout,\n",
    "                style = attentiontype\n",
    "            )\n",
    "\n",
    "        l = input_size // 8\n",
    "        hidden_dimensions = list(map(lambda t: l * t, mlp_hidden_mults))\n",
    "        all_dimensions = [input_size, *hidden_dimensions, dim_out]\n",
    "        \n",
    "        self.mlp = MLP(all_dimensions, act = mlp_act)\n",
    "        self.embeds = nn.Embedding(self.total_tokens, self.dim) #.to(device)\n",
    "\n",
    "        cat_mask_offset = F.pad(torch.Tensor(self.num_categories).fill_(2).type(torch.int8), (1, 0), value = 0) \n",
    "        cat_mask_offset = cat_mask_offset.cumsum(dim = -1)[:-1]\n",
    "\n",
    "        con_mask_offset = F.pad(torch.Tensor(self.num_continuous).fill_(2).type(torch.int8), (1, 0), value = 0) \n",
    "        con_mask_offset = con_mask_offset.cumsum(dim = -1)[:-1]\n",
    "\n",
    "        self.register_buffer('cat_mask_offset', cat_mask_offset)\n",
    "        self.register_buffer('con_mask_offset', con_mask_offset)\n",
    "\n",
    "        self.mask_embeds_cat = nn.Embedding(self.num_categories*2, self.dim)\n",
    "        self.mask_embeds_cont = nn.Embedding(self.num_continuous*2, self.dim)\n",
    "\n",
    "    def forward(\n",
    "        self, \n",
    "        x_categ:torch.tensor, # Categorical inputs\n",
    "        x_cont:torch.tensor, # Continous inputs\n",
    "        x_categ_enc:torch.tensor, # Encoded categorical inputs via `embed_data_mask`\n",
    "        x_cont_enc:torch.tensor # Encoded continuous inputs via `embed_data_mask`\n",
    "    ):\n",
    "        \"Feed input through Tabular Attention\"\n",
    "        device = x_categ.device\n",
    "        if self.attentiontype == 'justmlp':\n",
    "            if x_categ.shape[-1] > 0:\n",
    "                flat_categ = x_categ.flatten(1).to(device)\n",
    "                x = torch.cat((flat_categ, x_cont.flatten(1).to(device)), dim = -1)\n",
    "            else:\n",
    "                x = x_cont.clone()\n",
    "        else:\n",
    "            if self.cont_embeddings == 'MLP':\n",
    "                x = self.transformer(x_categ_enc,x_cont_enc.to(device))\n",
    "            else:\n",
    "                if x_categ.shape[-1] <= 0:\n",
    "                    x = x_cont.clone()\n",
    "                else: \n",
    "                    flat_categ = self.transformer(x_categ_enc).flatten(1)\n",
    "                    x = torch.cat((flat_categ, x_cont), dim = -1)                    \n",
    "        flat_x = x.flatten(1)\n",
    "        return self.mlp(flat_x)"
   ]
  },
  {
   "cell_type": "code",
   "execution_count": null,
   "metadata": {},
   "outputs": [
    {
     "data": {
      "text/markdown": [
       "<h4 id=\"TabAttention.forward\" class=\"doc_header\"><code>TabAttention.forward</code><a href=\"__main__.py#L97\" class=\"source_link\" style=\"float:right\">[source]</a></h4>\n",
       "\n",
       "> <code>TabAttention.forward</code>(**`x_categ`**:`tensor`, **`x_cont`**:`tensor`, **`x_categ_enc`**:`tensor`, **`x_cont_enc`**:`tensor`)\n",
       "\n",
       "Feed input through Tabular Attention\n",
       "\n",
       "**Function Arguments**:\n",
       "* `x_categ` (`torch.tensor`): Categorical inputs\n",
       "* `x_cont` (`torch.tensor`): Continous inputs\n",
       "* `x_categ_enc` (`torch.tensor`): Encoded categorical inputs via `embed_data_mask`\n",
       "* `x_cont_enc` (`torch.tensor`): Encoded continuous inputs via `embed_data_mask`\n"
      ],
      "text/plain": [
       "<IPython.core.display.Markdown object>"
      ]
     },
     "metadata": {},
     "output_type": "display_data"
    }
   ],
   "source": [
    "show_doc(TabAttention.forward)"
   ]
  },
  {
   "cell_type": "code",
   "execution_count": null,
   "metadata": {},
   "outputs": [],
   "source": []
  }
 ],
 "metadata": {
  "kernelspec": {
   "display_name": "Python 3",
   "language": "python",
   "name": "python3"
  }
 },
 "nbformat": 4,
 "nbformat_minor": 2
}
