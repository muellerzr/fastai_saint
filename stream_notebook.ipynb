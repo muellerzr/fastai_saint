{
 "cells": [
  {
   "cell_type": "markdown",
   "metadata": {},
   "source": [
    "# SAINT Experiments\n",
    "\n",
    "Experimenting with the [SAINT](https://github.com/somepago/saint) implementation and bringing it into fastai"
   ]
  },
  {
   "cell_type": "code",
   "execution_count": null,
   "metadata": {},
   "outputs": [],
   "source": [
    "!pip install fastai -U >> /dev/null"
   ]
  },
  {
   "cell_type": "code",
   "execution_count": null,
   "metadata": {},
   "outputs": [],
   "source": [
    "from fastai.tabular.all import *"
   ]
  },
  {
   "cell_type": "code",
   "execution_count": null,
   "metadata": {},
   "outputs": [
    {
     "data": {
      "text/html": [
       ""
      ],
      "text/plain": [
       "<IPython.core.display.HTML object>"
      ]
     },
     "metadata": {},
     "output_type": "display_data"
    }
   ],
   "source": [
    "path = untar_data(URLs.ADULT_SAMPLE)\n",
    "\n",
    "dls = TabularDataLoaders.from_csv(path/'adult.csv', path=path, y_names=\"salary\",\n",
    "    cat_names = ['workclass', 'education', 'marital-status', 'occupation',\n",
    "                 'relationship', 'race'],\n",
    "    cont_names = ['age', 'fnlwgt', 'education-num'],\n",
    "    procs = [Categorify, FillMissing, Normalize])"
   ]
  },
  {
   "cell_type": "code",
   "execution_count": null,
   "metadata": {},
   "outputs": [],
   "source": [
    "cat,cont,y = next(iter(dls.valid))"
   ]
  },
  {
   "cell_type": "code",
   "execution_count": null,
   "metadata": {},
   "outputs": [
    {
     "name": "stdout",
     "output_type": "stream",
     "text": [
      "Cloning into 'saint'...\n",
      "remote: Enumerating objects: 35, done.\u001b[K\n",
      "remote: Counting objects: 100% (35/35), done.\u001b[K\n",
      "remote: Compressing objects: 100% (26/26), done.\u001b[K\n",
      "remote: Total 35 (delta 12), reused 28 (delta 8), pack-reused 0\u001b[K\n",
      "Unpacking objects: 100% (35/35), done.\n"
     ]
    }
   ],
   "source": [
    "!git clone https://github.com/somepago/saint.git"
   ]
  },
  {
   "cell_type": "code",
   "execution_count": null,
   "metadata": {},
   "outputs": [
    {
     "name": "stdout",
     "output_type": "stream",
     "text": [
      "/content/saint\n"
     ]
    }
   ],
   "source": [
    "%cd saint"
   ]
  },
  {
   "cell_type": "code",
   "execution_count": null,
   "metadata": {},
   "outputs": [],
   "source": [
    "!pip install einops >> /dev/null"
   ]
  },
  {
   "cell_type": "code",
   "execution_count": null,
   "metadata": {},
   "outputs": [],
   "source": [
    "from models import *"
   ]
  },
  {
   "cell_type": "code",
   "execution_count": null,
   "metadata": {},
   "outputs": [],
   "source": [
    "config = {'dataset':'1995_income',\n",
    "'cont_embeddings':'MLP',\n",
    "'embedding_size':32,\n",
    "'transformer_depth':6,\n",
    "'attention_heads':8,\n",
    "'attention_dropout':0.1,\n",
    "'ff_dropout':0.1,\n",
    "'attentiontype':'colrow',\n",
    "'lr':0.0001,\n",
    "'epochs':100,\n",
    "'batchsize':256,\n",
    "'savemodelroot':'./bestmodels',\n",
    "'run_name':'testrun',\n",
    "'set_seed': 1 ,\n",
    "'active_log':False,\n",
    "'pretrain':False,\n",
    "'pretrain_epochs':50,\n",
    "'pt_tasks':['contrastive','denoising'],\n",
    "'pt_aug':[],\n",
    "'pt_aug_lam':0.1,\n",
    "'mixup_lam':0.3,\n",
    "\n",
    "'train_mask_prob':0,\n",
    "'mask_prob':0,\n",
    "\n",
    "'ssl_avail_y': 0,\n",
    "'pt_projhead_style':'diff',\n",
    "'nce_temp':0.7,\n",
    "\n",
    "'lam0':0.5,\n",
    "'lam1':10,\n",
    "'lam2':1,\n",
    "'lam3':10,\n",
    "'final_mlp_style':'sep'}"
   ]
  },
  {
   "cell_type": "code",
   "execution_count": null,
   "metadata": {},
   "outputs": [
    {
     "data": {
      "text/plain": [
       "'colrow'"
      ]
     },
     "execution_count": null,
     "metadata": {},
     "output_type": "execute_result"
    }
   ],
   "source": [
    "config['attentiontype']"
   ]
  },
  {
   "cell_type": "code",
   "execution_count": null,
   "metadata": {},
   "outputs": [],
   "source": [
    "def change_config(config, fld, val):\n",
    "    print(f'Initial {fld} configuration: {val}')\n",
    "    config[fld] = val\n",
    "    print(f'New {fld} configuration: {val}')\n",
    "    return config"
   ]
  },
  {
   "cell_type": "code",
   "execution_count": null,
   "metadata": {},
   "outputs": [
    {
     "name": "stdout",
     "output_type": "stream",
     "text": [
      "Initial ff_dropout configuration: 0.8\n",
      "New ff_dropout configuration: 0.8\n",
      "Initial transformer_depth configuration: 1\n",
      "New transformer_depth configuration: 1\n"
     ]
    }
   ],
   "source": [
    "config = change_config(config, 'ff_dropout', 0.8)\n",
    "config = change_config(config, 'transformer_depth', 1)"
   ]
  },
  {
   "cell_type": "code",
   "execution_count": null,
   "metadata": {},
   "outputs": [
    {
     "data": {
      "text/plain": [
       "0"
      ]
     },
     "execution_count": null,
     "metadata": {},
     "output_type": "execute_result"
    }
   ],
   "source": [
    "config['train_mask_prob']"
   ]
  },
  {
   "cell_type": "code",
   "execution_count": null,
   "metadata": {},
   "outputs": [],
   "source": [
    "mask_params = {\n",
    "    'mask_prob':config['train_mask_prob'],\n",
    "    'avail_train_y': 0,\n",
    "    'test_mask':config['train_mask_prob']\n",
    "}"
   ]
  },
  {
   "cell_type": "code",
   "execution_count": null,
   "metadata": {},
   "outputs": [
    {
     "data": {
      "text/plain": [
       "0"
      ]
     },
     "execution_count": null,
     "metadata": {},
     "output_type": "execute_result"
    }
   ],
   "source": [
    "config['mask_prob']"
   ]
  },
  {
   "cell_type": "code",
   "execution_count": null,
   "metadata": {},
   "outputs": [],
   "source": [
    "pt_mask_params = {\n",
    "    'mask_prob':0,\n",
    "    'avail_train_y':0,\n",
    "    'test_mask':0\n",
    "}"
   ]
  },
  {
   "cell_type": "code",
   "execution_count": null,
   "metadata": {},
   "outputs": [],
   "source": [
    "mask = np.ones_like(dls.train.dataset.xs.values)"
   ]
  },
  {
   "cell_type": "code",
   "execution_count": null,
   "metadata": {},
   "outputs": [],
   "source": [
    "y_dim = 2"
   ]
  },
  {
   "cell_type": "code",
   "execution_count": null,
   "metadata": {},
   "outputs": [
    {
     "data": {
      "text/plain": [
       "{'age': 38.55587546546892,\n",
       " 'education-num': 10.078429222106934,\n",
       " 'fnlwgt': 189819.7968060194}"
      ]
     },
     "execution_count": null,
     "metadata": {},
     "output_type": "execute_result"
    }
   ],
   "source": [
    "dls.train.normalize.means"
   ]
  },
  {
   "cell_type": "code",
   "execution_count": null,
   "metadata": {},
   "outputs": [],
   "source": [
    "mean, std = dls.train.normalize.means, dls.train.normalize.stds"
   ]
  },
  {
   "cell_type": "code",
   "execution_count": null,
   "metadata": {},
   "outputs": [
    {
     "data": {
      "text/plain": [
       "False"
      ]
     },
     "execution_count": null,
     "metadata": {},
     "output_type": "execute_result"
    }
   ],
   "source": [
    "config['pretrain']"
   ]
  },
  {
   "cell_type": "code",
   "execution_count": null,
   "metadata": {},
   "outputs": [
    {
     "data": {
      "text/plain": [
       "{'education': ['#na#', '10th', '11th', '12th', '1st-4th', '5th-6th', '7th-8th', '9th', 'Assoc-acdm', 'Assoc-voc', 'Bachelors', 'Doctorate', 'HS-grad', 'Masters', 'Preschool', 'Prof-school', 'Some-college'],\n",
       " 'education-num_na': ['#na#', False, True],\n",
       " 'marital-status': ['#na#', 'Divorced', 'Married-AF-spouse', 'Married-civ-spouse', 'Married-spouse-absent', 'Never-married', 'Separated', 'Widowed'],\n",
       " 'occupation': ['#na#', '?', 'Adm-clerical', 'Armed-Forces', 'Craft-repair', 'Exec-managerial', 'Farming-fishing', 'Handlers-cleaners', 'Machine-op-inspct', 'Other-service', 'Priv-house-serv', 'Prof-specialty', 'Protective-serv', 'Sales', 'Tech-support', 'Transport-moving'],\n",
       " 'race': ['#na#', 'Amer-Indian-Eskimo', 'Asian-Pac-Islander', 'Black', 'Other', 'White'],\n",
       " 'relationship': ['#na#', 'Husband', 'Not-in-family', 'Other-relative', 'Own-child', 'Unmarried', 'Wife'],\n",
       " 'workclass': ['#na#', '?', 'Federal-gov', 'Local-gov', 'Never-worked', 'Private', 'Self-emp-inc', 'Self-emp-not-inc', 'State-gov', 'Without-pay']}"
      ]
     },
     "execution_count": null,
     "metadata": {},
     "output_type": "execute_result"
    }
   ],
   "source": [
    "dls.train.categorify.classes"
   ]
  },
  {
   "cell_type": "code",
   "execution_count": null,
   "metadata": {},
   "outputs": [],
   "source": [
    "categorical_dims = {o:len(i) for _, (o,i) in enumerate(dls.train.categorify.classes.items())}"
   ]
  },
  {
   "cell_type": "code",
   "execution_count": null,
   "metadata": {},
   "outputs": [
    {
     "data": {
      "text/plain": [
       "{'education': 17,\n",
       " 'education-num_na': 3,\n",
       " 'marital-status': 8,\n",
       " 'occupation': 16,\n",
       " 'race': 6,\n",
       " 'relationship': 7,\n",
       " 'workclass': 10}"
      ]
     },
     "execution_count": null,
     "metadata": {},
     "output_type": "execute_result"
    }
   ],
   "source": [
    "categorical_dims"
   ]
  },
  {
   "cell_type": "code",
   "execution_count": null,
   "metadata": {},
   "outputs": [],
   "source": [
    "y_dim = 2"
   ]
  },
  {
   "cell_type": "code",
   "execution_count": null,
   "metadata": {},
   "outputs": [
    {
     "data": {
      "text/plain": [
       "0"
      ]
     },
     "execution_count": null,
     "metadata": {},
     "output_type": "execute_result"
    }
   ],
   "source": [
    "config['ssl_avail_y']"
   ]
  },
  {
   "cell_type": "code",
   "execution_count": null,
   "metadata": {},
   "outputs": [],
   "source": [
    "train_bsize = config['batchsize']"
   ]
  },
  {
   "cell_type": "code",
   "execution_count": null,
   "metadata": {},
   "outputs": [
    {
     "data": {
      "text/plain": [
       "256"
      ]
     },
     "execution_count": null,
     "metadata": {},
     "output_type": "execute_result"
    }
   ],
   "source": [
    "train_bsize"
   ]
  },
  {
   "cell_type": "code",
   "execution_count": null,
   "metadata": {},
   "outputs": [
    {
     "data": {
      "text/plain": [
       "dict_values([10, 17, 8, 16, 7, 6, 3])"
      ]
     },
     "execution_count": null,
     "metadata": {},
     "output_type": "execute_result"
    }
   ],
   "source": [
    "categorical_dims.values()"
   ]
  },
  {
   "cell_type": "code",
   "execution_count": null,
   "metadata": {},
   "outputs": [
    {
     "data": {
      "text/plain": [
       "dict_values([10, 17, 8, 16, 7, 6, 3])"
      ]
     },
     "execution_count": null,
     "metadata": {},
     "output_type": "execute_result"
    }
   ],
   "source": [
    "categorical_dims.values()"
   ]
  },
  {
   "cell_type": "code",
   "execution_count": null,
   "metadata": {},
   "outputs": [],
   "source": [
    "cat_dims = np.append(np.array([10,17,8,16,7,6,3]), np.array([2])).astype(int)"
   ]
  },
  {
   "cell_type": "code",
   "execution_count": null,
   "metadata": {},
   "outputs": [
    {
     "data": {
      "text/plain": [
       "array([10, 17,  8, 16,  7,  6,  3,  2])"
      ]
     },
     "execution_count": null,
     "metadata": {},
     "output_type": "execute_result"
    }
   ],
   "source": [
    "cat_dims"
   ]
  },
  {
   "cell_type": "code",
   "execution_count": null,
   "metadata": {},
   "outputs": [
    {
     "data": {
      "text/plain": [
       "(#3) ['age','fnlwgt','education-num']"
      ]
     },
     "execution_count": null,
     "metadata": {},
     "output_type": "execute_result"
    }
   ],
   "source": [
    "dls.cont_names"
   ]
  },
  {
   "cell_type": "code",
   "execution_count": null,
   "metadata": {},
   "outputs": [
    {
     "data": {
      "text/plain": [
       "32"
      ]
     },
     "execution_count": null,
     "metadata": {},
     "output_type": "execute_result"
    }
   ],
   "source": [
    "config['embedding_size']"
   ]
  },
  {
   "cell_type": "code",
   "execution_count": null,
   "metadata": {},
   "outputs": [
    {
     "data": {
      "text/plain": [
       "'MLP'"
      ]
     },
     "execution_count": null,
     "metadata": {},
     "output_type": "execute_result"
    }
   ],
   "source": [
    "config['cont_embeddings']"
   ]
  },
  {
   "cell_type": "code",
   "execution_count": null,
   "metadata": {},
   "outputs": [
    {
     "data": {
      "text/plain": [
       "'colrow'"
      ]
     },
     "execution_count": null,
     "metadata": {},
     "output_type": "execute_result"
    }
   ],
   "source": [
    "config['attentiontype']"
   ]
  },
  {
   "cell_type": "code",
   "execution_count": null,
   "metadata": {},
   "outputs": [
    {
     "data": {
      "text/plain": [
       "'sep'"
      ]
     },
     "execution_count": null,
     "metadata": {},
     "output_type": "execute_result"
    }
   ],
   "source": [
    "config['final_mlp_style']"
   ]
  },
  {
   "cell_type": "code",
   "execution_count": null,
   "metadata": {},
   "outputs": [],
   "source": [
    "model = SAINT(\n",
    "    categories = tuple(cat_dims),\n",
    "    num_continuous = len(dls.cont_names),\n",
    "    dim = config['embedding_size'],\n",
    "    dim_out = 1,\n",
    "    depth = config['transformer_depth'],\n",
    "    heads = config['attention_heads'],\n",
    "    attn_dropout = config['attention_dropout'],\n",
    "    ff_dropout = config['ff_dropout'],\n",
    "    mlp_hidden_mults = (4,2),\n",
    "    continuous_mean_std = (mean,std),\n",
    "    cont_embeddings = config['cont_embeddings'],\n",
    "    attentiontype = config['attentiontype'],\n",
    "    final_mlp_style = config['final_mlp_style'],\n",
    "    y_dim = 1\n",
    ")"
   ]
  },
  {
   "cell_type": "code",
   "execution_count": null,
   "metadata": {},
   "outputs": [
    {
     "data": {
      "text/plain": [
       "(26049, 10)"
      ]
     },
     "execution_count": null,
     "metadata": {},
     "output_type": "execute_result"
    }
   ],
   "source": [
    "mask.shape"
   ]
  },
  {
   "cell_type": "code",
   "execution_count": null,
   "metadata": {},
   "outputs": [],
   "source": [
    "from augmentations import embed_data_mask"
   ]
  },
  {
   "cell_type": "code",
   "execution_count": null,
   "metadata": {},
   "outputs": [
    {
     "data": {
      "text/plain": [
       "(torch.Size([64, 7]), torch.Size([64, 3]))"
      ]
     },
     "execution_count": null,
     "metadata": {},
     "output_type": "execute_result"
    }
   ],
   "source": [
    "cat.shape, cont.shape"
   ]
  },
  {
   "cell_type": "code",
   "execution_count": null,
   "metadata": {},
   "outputs": [
    {
     "data": {
      "text/plain": [
       "array([[1., 1., 1., ..., 1., 1., 1.],\n",
       "       [1., 1., 1., ..., 1., 1., 1.],\n",
       "       [1., 1., 1., ..., 1., 1., 1.],\n",
       "       ...,\n",
       "       [1., 1., 1., ..., 1., 1., 1.],\n",
       "       [1., 1., 1., ..., 1., 1., 1.],\n",
       "       [1., 1., 1., ..., 1., 1., 1.]])"
      ]
     },
     "execution_count": null,
     "metadata": {},
     "output_type": "execute_result"
    }
   ],
   "source": [
    "mask"
   ]
  },
  {
   "cell_type": "code",
   "execution_count": null,
   "metadata": {},
   "outputs": [
    {
     "data": {
      "text/plain": [
       "(64, 8)"
      ]
     },
     "execution_count": null,
     "metadata": {},
     "output_type": "execute_result"
    }
   ],
   "source": [
    "np.ones_like(np.empty((64,8))).shape"
   ]
  },
  {
   "cell_type": "code",
   "execution_count": null,
   "metadata": {},
   "outputs": [],
   "source": [
    "cat_mask = np.ones_like(np.empty((64,8)))\n",
    "cont_mask = np.ones_like(cont)"
   ]
  },
  {
   "cell_type": "code",
   "execution_count": null,
   "metadata": {},
   "outputs": [],
   "source": [
    "cat_mask[:,-1] = 0"
   ]
  },
  {
   "cell_type": "code",
   "execution_count": null,
   "metadata": {},
   "outputs": [
    {
     "data": {
      "text/plain": [
       "tensor([[1., 1., 1., 1., 1., 1., 1., 0.],\n",
       "        [1., 1., 1., 1., 1., 1., 1., 0.],\n",
       "        [1., 1., 1., 1., 1., 1., 1., 0.],\n",
       "        [1., 1., 1., 1., 1., 1., 1., 0.],\n",
       "        [1., 1., 1., 1., 1., 1., 1., 0.],\n",
       "        [1., 1., 1., 1., 1., 1., 1., 0.],\n",
       "        [1., 1., 1., 1., 1., 1., 1., 0.],\n",
       "        [1., 1., 1., 1., 1., 1., 1., 0.],\n",
       "        [1., 1., 1., 1., 1., 1., 1., 0.],\n",
       "        [1., 1., 1., 1., 1., 1., 1., 0.],\n",
       "        [1., 1., 1., 1., 1., 1., 1., 0.],\n",
       "        [1., 1., 1., 1., 1., 1., 1., 0.],\n",
       "        [1., 1., 1., 1., 1., 1., 1., 0.],\n",
       "        [1., 1., 1., 1., 1., 1., 1., 0.],\n",
       "        [1., 1., 1., 1., 1., 1., 1., 0.],\n",
       "        [1., 1., 1., 1., 1., 1., 1., 0.],\n",
       "        [1., 1., 1., 1., 1., 1., 1., 0.],\n",
       "        [1., 1., 1., 1., 1., 1., 1., 0.],\n",
       "        [1., 1., 1., 1., 1., 1., 1., 0.],\n",
       "        [1., 1., 1., 1., 1., 1., 1., 0.],\n",
       "        [1., 1., 1., 1., 1., 1., 1., 0.],\n",
       "        [1., 1., 1., 1., 1., 1., 1., 0.],\n",
       "        [1., 1., 1., 1., 1., 1., 1., 0.],\n",
       "        [1., 1., 1., 1., 1., 1., 1., 0.],\n",
       "        [1., 1., 1., 1., 1., 1., 1., 0.],\n",
       "        [1., 1., 1., 1., 1., 1., 1., 0.],\n",
       "        [1., 1., 1., 1., 1., 1., 1., 0.],\n",
       "        [1., 1., 1., 1., 1., 1., 1., 0.],\n",
       "        [1., 1., 1., 1., 1., 1., 1., 0.],\n",
       "        [1., 1., 1., 1., 1., 1., 1., 0.],\n",
       "        [1., 1., 1., 1., 1., 1., 1., 0.],\n",
       "        [1., 1., 1., 1., 1., 1., 1., 0.],\n",
       "        [1., 1., 1., 1., 1., 1., 1., 0.],\n",
       "        [1., 1., 1., 1., 1., 1., 1., 0.],\n",
       "        [1., 1., 1., 1., 1., 1., 1., 0.],\n",
       "        [1., 1., 1., 1., 1., 1., 1., 0.],\n",
       "        [1., 1., 1., 1., 1., 1., 1., 0.],\n",
       "        [1., 1., 1., 1., 1., 1., 1., 0.],\n",
       "        [1., 1., 1., 1., 1., 1., 1., 0.],\n",
       "        [1., 1., 1., 1., 1., 1., 1., 0.],\n",
       "        [1., 1., 1., 1., 1., 1., 1., 0.],\n",
       "        [1., 1., 1., 1., 1., 1., 1., 0.],\n",
       "        [1., 1., 1., 1., 1., 1., 1., 0.],\n",
       "        [1., 1., 1., 1., 1., 1., 1., 0.],\n",
       "        [1., 1., 1., 1., 1., 1., 1., 0.],\n",
       "        [1., 1., 1., 1., 1., 1., 1., 0.],\n",
       "        [1., 1., 1., 1., 1., 1., 1., 0.],\n",
       "        [1., 1., 1., 1., 1., 1., 1., 0.],\n",
       "        [1., 1., 1., 1., 1., 1., 1., 0.],\n",
       "        [1., 1., 1., 1., 1., 1., 1., 0.],\n",
       "        [1., 1., 1., 1., 1., 1., 1., 0.],\n",
       "        [1., 1., 1., 1., 1., 1., 1., 0.],\n",
       "        [1., 1., 1., 1., 1., 1., 1., 0.],\n",
       "        [1., 1., 1., 1., 1., 1., 1., 0.],\n",
       "        [1., 1., 1., 1., 1., 1., 1., 0.],\n",
       "        [1., 1., 1., 1., 1., 1., 1., 0.],\n",
       "        [1., 1., 1., 1., 1., 1., 1., 0.],\n",
       "        [1., 1., 1., 1., 1., 1., 1., 0.],\n",
       "        [1., 1., 1., 1., 1., 1., 1., 0.],\n",
       "        [1., 1., 1., 1., 1., 1., 1., 0.],\n",
       "        [1., 1., 1., 1., 1., 1., 1., 0.],\n",
       "        [1., 1., 1., 1., 1., 1., 1., 0.],\n",
       "        [1., 1., 1., 1., 1., 1., 1., 0.],\n",
       "        [1., 1., 1., 1., 1., 1., 1., 0.]])"
      ]
     },
     "execution_count": null,
     "metadata": {},
     "output_type": "execute_result"
    }
   ],
   "source": [
    "cat_mask"
   ]
  },
  {
   "cell_type": "code",
   "execution_count": null,
   "metadata": {},
   "outputs": [
    {
     "data": {
      "text/plain": [
       "7"
      ]
     },
     "execution_count": null,
     "metadata": {},
     "output_type": "execute_result"
    }
   ],
   "source": [
    "len(dls.cat_names)"
   ]
  },
  {
   "cell_type": "code",
   "execution_count": null,
   "metadata": {},
   "outputs": [],
   "source": [
    "cat_mask = tensor(cat_mask)\n",
    "cont_mask = tensor(cont_mask)"
   ]
  },
  {
   "cell_type": "code",
   "execution_count": null,
   "metadata": {},
   "outputs": [],
   "source": [
    "y_mask = tensor(np.ones_like(y))"
   ]
  },
  {
   "cell_type": "code",
   "execution_count": null,
   "metadata": {},
   "outputs": [
    {
     "data": {
      "text/plain": [
       "torch.Size([64, 9])"
      ]
     },
     "execution_count": null,
     "metadata": {},
     "output_type": "execute_result"
    }
   ],
   "source": [
    "torch.cat((cat_mask,y_mask), dim=1).shape"
   ]
  },
  {
   "cell_type": "code",
   "execution_count": null,
   "metadata": {},
   "outputs": [],
   "source": [
    "with torch.no_grad():\n",
    "    model.eval()\n",
    "    _ , x_categ_enc, x_cont_enc = embed_data_mask(torch.cat((cat, y), dim=-1), \n",
    "                                                  cont, \n",
    "                                                  cat_mask.int(), \n",
    "                                                  cont_mask.int(), \n",
    "                                                  model,\n",
    "                                                  False)  \n",
    "    reps = model.transformer(x_categ_enc, x_cont_enc)\n",
    "    # Train embeds for our ys\n",
    "    y_reps = reps[:,len(cat_dims)-1,:]\n",
    "    y_outs = model.mlpfory(y_reps)"
   ]
  },
  {
   "cell_type": "code",
   "execution_count": null,
   "metadata": {},
   "outputs": [
    {
     "data": {
      "text/plain": [
       "torch.Size([64, 8, 32])"
      ]
     },
     "execution_count": null,
     "metadata": {},
     "output_type": "execute_result"
    }
   ],
   "source": [
    "x_categ_enc.shape"
   ]
  },
  {
   "cell_type": "code",
   "execution_count": null,
   "metadata": {},
   "outputs": [
    {
     "data": {
      "text/plain": [
       "torch.Size([64, 3, 32])"
      ]
     },
     "execution_count": null,
     "metadata": {},
     "output_type": "execute_result"
    }
   ],
   "source": [
    "x_cont_enc.shape"
   ]
  },
  {
   "cell_type": "code",
   "execution_count": null,
   "metadata": {},
   "outputs": [],
   "source": []
  },
  {
   "cell_type": "code",
   "execution_count": null,
   "metadata": {},
   "outputs": [
    {
     "data": {
      "text/plain": [
       "tensor([[ 5, 12,  5, 13,  2,  5,  1],\n",
       "        [ 5,  2,  5,  2,  4,  3,  1],\n",
       "        [ 6,  8,  3,  5,  1,  5,  1],\n",
       "        [ 5,  2,  3, 15,  1,  5,  1],\n",
       "        [ 2, 10,  5, 11,  2,  5,  1],\n",
       "        [ 5, 13,  1, 11,  5,  5,  1],\n",
       "        [ 5, 16,  1, 11,  2,  5,  1],\n",
       "        [ 5,  5,  3, 15,  1,  3,  1],\n",
       "        [ 5,  2,  1, 12,  2,  5,  1],\n",
       "        [ 3, 10,  3,  5,  1,  5,  1],\n",
       "        [ 3, 12,  3,  5,  1,  5,  1],\n",
       "        [ 5, 16,  5, 13,  2,  5,  1],\n",
       "        [ 5, 16,  1, 11,  4,  5,  1],\n",
       "        [ 1, 12,  1,  1,  4,  5,  1],\n",
       "        [ 5, 12,  1,  2,  5,  5,  1],\n",
       "        [ 5,  6,  3,  4,  1,  5,  1],\n",
       "        [ 5,  1,  7,  8,  2,  5,  1],\n",
       "        [ 5, 16,  1,  5,  2,  5,  1],\n",
       "        [ 3, 16,  5,  9,  4,  3,  1],\n",
       "        [ 5,  2,  3,  8,  1,  5,  1],\n",
       "        [ 7, 12,  1, 13,  2,  5,  1],\n",
       "        [ 7, 16,  3,  4,  1,  5,  1],\n",
       "        [ 5,  1,  5,  9,  4,  5,  1],\n",
       "        [ 5, 12,  1,  4,  2,  5,  1],\n",
       "        [ 5, 10,  3, 11,  1,  5,  1],\n",
       "        [ 5, 12,  7,  5,  2,  3,  1],\n",
       "        [ 5, 13,  3,  5,  1,  5,  1],\n",
       "        [ 5,  8,  3, 11,  6,  5,  1],\n",
       "        [ 7, 12,  3,  5,  1,  5,  1],\n",
       "        [ 5, 12,  3,  7,  1,  5,  1],\n",
       "        [ 5, 12,  3,  5,  1,  5,  1],\n",
       "        [ 3, 12,  3,  2,  1,  5,  1],\n",
       "        [ 5, 10,  3,  5,  1,  5,  1],\n",
       "        [ 5, 16,  3,  6,  1,  5,  1],\n",
       "        [ 5, 10,  3,  9,  6,  2,  1],\n",
       "        [ 3, 10,  5,  2,  5,  5,  1],\n",
       "        [ 5, 13,  5, 11,  2,  5,  1],\n",
       "        [ 3,  7,  3,  5,  1,  5,  1],\n",
       "        [ 1, 16,  5,  1,  4,  5,  1],\n",
       "        [ 7, 12,  3,  4,  1,  5,  1],\n",
       "        [ 5, 12,  4, 15,  2,  4,  1],\n",
       "        [ 5, 16,  1,  9,  2,  5,  1],\n",
       "        [ 5, 12,  1,  8,  3,  5,  1],\n",
       "        [ 5, 10,  3, 13,  1,  5,  1],\n",
       "        [ 3, 13,  3, 11,  6,  5,  1],\n",
       "        [ 7, 12,  3,  6,  1,  5,  1],\n",
       "        [ 5,  2,  5,  9,  4,  5,  1],\n",
       "        [ 5, 12,  5,  9,  4,  5,  1],\n",
       "        [ 5, 12,  7,  5,  2,  5,  1],\n",
       "        [ 6, 12,  6, 13,  5,  5,  1],\n",
       "        [ 5, 10,  1,  5,  2,  5,  1],\n",
       "        [ 5,  9,  3,  4,  1,  5,  1],\n",
       "        [ 7, 10,  5,  6,  2,  5,  1],\n",
       "        [ 5, 12,  3, 15,  1,  3,  1],\n",
       "        [ 5,  9,  3,  4,  1,  5,  1],\n",
       "        [ 5, 10,  3,  5,  1,  5,  1],\n",
       "        [ 1, 13,  5,  1,  2,  5,  1],\n",
       "        [ 5,  6,  3,  8,  1,  5,  1],\n",
       "        [ 5, 12,  5, 13,  2,  5,  1],\n",
       "        [ 5,  2,  5,  4,  2,  2,  1],\n",
       "        [ 5,  1,  5, 13,  3,  5,  1],\n",
       "        [ 5, 16,  3,  5,  1,  5,  1],\n",
       "        [ 5, 10,  3, 13,  1,  5,  1],\n",
       "        [ 5, 12,  5,  4,  2,  5,  1]])"
      ]
     },
     "execution_count": null,
     "metadata": {},
     "output_type": "execute_result"
    }
   ],
   "source": [
    "with torch.no_grad():\n",
    "    model.eval()\n",
    "    model.cuda()\n",
    "    out = model()"
   ]
  },
  {
   "cell_type": "code",
   "execution_count": null,
   "metadata": {},
   "outputs": [],
   "source": []
  }
 ],
 "metadata": {
  "kernelspec": {
   "display_name": "Python 3",
   "name": "python3"
  }
 },
 "nbformat": 4,
 "nbformat_minor": 0
}
