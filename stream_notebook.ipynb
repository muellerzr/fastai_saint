{
  "nbformat": 4,
  "nbformat_minor": 0,
  "metadata": {
    "colab": {
      "name": "scratchpad",
      "provenance": []
    },
    "kernelspec": {
      "display_name": "Python 3",
      "name": "python3"
    }
  },
  "cells": [
    {
      "cell_type": "markdown",
      "metadata": {
        "id": "ZKsZkely-iKg"
      },
      "source": [
        "# SAINT Experiments\n",
        "\n",
        "Experimenting with the [SAINT](https://github.com/somepago/saint) implementation and bringing it into fastai"
      ]
    },
    {
      "cell_type": "code",
      "metadata": {
        "id": "lIYdn1woOS1n"
      },
      "source": [
        "!pip install fastai -U >> /dev/null"
      ],
      "execution_count": 1,
      "outputs": []
    },
    {
      "cell_type": "code",
      "metadata": {
        "id": "1beqE6oLrmpy"
      },
      "source": [
        "from fastai.tabular.all import *"
      ],
      "execution_count": 2,
      "outputs": []
    },
    {
      "cell_type": "code",
      "metadata": {
        "id": "gjB4WJ-Dr4p5",
        "outputId": "0a4ddc60-0546-4e19-b6c6-d018294f2ce1",
        "colab": {
          "base_uri": "https://localhost:8080/",
          "height": 17
        }
      },
      "source": [
        "path = untar_data(URLs.ADULT_SAMPLE)\n",
        "\n",
        "dls = TabularDataLoaders.from_csv(path/'adult.csv', path=path, y_names=\"salary\",\n",
        "    cat_names = ['workclass', 'education', 'marital-status', 'occupation',\n",
        "                 'relationship', 'race'],\n",
        "    cont_names = ['age', 'fnlwgt', 'education-num'],\n",
        "    procs = [Categorify, FillMissing, Normalize])"
      ],
      "execution_count": 3,
      "outputs": [
        {
          "output_type": "display_data",
          "data": {
            "text/html": [
              ""
            ],
            "text/plain": [
              "<IPython.core.display.HTML object>"
            ]
          },
          "metadata": {
            "tags": []
          }
        }
      ]
    },
    {
      "cell_type": "code",
      "metadata": {
        "id": "T8Ccin0Cr5tj"
      },
      "source": [
        "cat,cont,y = next(iter(dls.valid))"
      ],
      "execution_count": 4,
      "outputs": []
    },
    {
      "cell_type": "code",
      "metadata": {
        "id": "9Y14EDx0r98d",
        "outputId": "9b3ae272-61a1-4c25-9e07-9da0c7714bdd",
        "colab": {
          "base_uri": "https://localhost:8080/"
        }
      },
      "source": [
        "!git clone https://github.com/somepago/saint.git"
      ],
      "execution_count": 5,
      "outputs": [
        {
          "output_type": "stream",
          "text": [
            "Cloning into 'saint'...\n",
            "remote: Enumerating objects: 35, done.\u001b[K\n",
            "remote: Counting objects: 100% (35/35), done.\u001b[K\n",
            "remote: Compressing objects: 100% (26/26), done.\u001b[K\n",
            "remote: Total 35 (delta 12), reused 28 (delta 8), pack-reused 0\u001b[K\n",
            "Unpacking objects: 100% (35/35), done.\n"
          ],
          "name": "stdout"
        }
      ]
    },
    {
      "cell_type": "code",
      "metadata": {
        "id": "EADG8VrLso7y",
        "outputId": "13bf6f8a-047d-4837-a3c7-1b16b83fc99f",
        "colab": {
          "base_uri": "https://localhost:8080/"
        }
      },
      "source": [
        "%cd saint"
      ],
      "execution_count": 8,
      "outputs": [
        {
          "output_type": "stream",
          "text": [
            "/content/saint\n"
          ],
          "name": "stdout"
        }
      ]
    },
    {
      "cell_type": "code",
      "metadata": {
        "id": "bY2yKAK4srgo"
      },
      "source": [
        "!pip install einops >> /dev/null"
      ],
      "execution_count": 10,
      "outputs": []
    },
    {
      "cell_type": "code",
      "metadata": {
        "id": "imTx9T2ZsRAI"
      },
      "source": [
        "from models import *"
      ],
      "execution_count": 11,
      "outputs": []
    },
    {
      "cell_type": "code",
      "metadata": {
        "id": "8bvXBNcVsjOS"
      },
      "source": [
        "config = {'dataset':'1995_income',\n",
        "'cont_embeddings':'MLP',\n",
        "'embedding_size':32,\n",
        "'transformer_depth':6,\n",
        "'attention_heads':8,\n",
        "'attention_dropout':0.1,\n",
        "'ff_dropout':0.1,\n",
        "'attentiontype':'colrow',\n",
        "'lr':0.0001,\n",
        "'epochs':100,\n",
        "'batchsize':256,\n",
        "'savemodelroot':'./bestmodels',\n",
        "'run_name':'testrun',\n",
        "'set_seed': 1 ,\n",
        "'active_log':False,\n",
        "'pretrain':False,\n",
        "'pretrain_epochs':50,\n",
        "'pt_tasks':['contrastive','denoising'],\n",
        "'pt_aug':[],\n",
        "'pt_aug_lam':0.1,\n",
        "'mixup_lam':0.3,\n",
        "\n",
        "'train_mask_prob':0,\n",
        "'mask_prob':0,\n",
        "\n",
        "'ssl_avail_y': 0,\n",
        "'pt_projhead_style':'diff',\n",
        "'nce_temp':0.7,\n",
        "\n",
        "'lam0':0.5,\n",
        "'lam1':10,\n",
        "'lam2':1,\n",
        "'lam3':10,\n",
        "'final_mlp_style':'sep'}"
      ],
      "execution_count": 19,
      "outputs": []
    },
    {
      "cell_type": "code",
      "metadata": {
        "id": "FyrmTBnbtvvn",
        "outputId": "002f4c78-d24c-4668-c8db-adea0aa02f30",
        "colab": {
          "base_uri": "https://localhost:8080/",
          "height": 35
        }
      },
      "source": [
        "config['attentiontype']"
      ],
      "execution_count": 20,
      "outputs": [
        {
          "output_type": "execute_result",
          "data": {
            "application/vnd.google.colaboratory.intrinsic+json": {
              "type": "string"
            },
            "text/plain": [
              "'colrow'"
            ]
          },
          "metadata": {
            "tags": []
          },
          "execution_count": 20
        }
      ]
    },
    {
      "cell_type": "code",
      "metadata": {
        "id": "jjWU6k45t-8E"
      },
      "source": [
        "def change_config(config, fld, val):\n",
        "    print(f'Initial {fld} configuration: {val}')\n",
        "    config[fld] = val\n",
        "    print(f'New {fld} configuration: {val}')\n",
        "    return config"
      ],
      "execution_count": 21,
      "outputs": []
    },
    {
      "cell_type": "code",
      "metadata": {
        "id": "pROJ6-SquCCN",
        "outputId": "48195202-1a85-497f-a053-d8e79c71dc40",
        "colab": {
          "base_uri": "https://localhost:8080/"
        }
      },
      "source": [
        "config = change_config(config, 'ff_dropout', 0.8)\n",
        "config = change_config(config, 'transformer_depth', 1)"
      ],
      "execution_count": 22,
      "outputs": [
        {
          "output_type": "stream",
          "text": [
            "Initial ff_dropout configuration: 0.8\n",
            "New ff_dropout configuration: 0.8\n",
            "Initial transformer_depth configuration: 1\n",
            "New transformer_depth configuration: 1\n"
          ],
          "name": "stdout"
        }
      ]
    },
    {
      "cell_type": "code",
      "metadata": {
        "id": "PmH-Wxyuuwja",
        "outputId": "dd9714f4-30e4-4639-c8f6-2e5695244222",
        "colab": {
          "base_uri": "https://localhost:8080/"
        }
      },
      "source": [
        "config['train_mask_prob']"
      ],
      "execution_count": 23,
      "outputs": [
        {
          "output_type": "execute_result",
          "data": {
            "text/plain": [
              "0"
            ]
          },
          "metadata": {
            "tags": []
          },
          "execution_count": 23
        }
      ]
    },
    {
      "cell_type": "code",
      "metadata": {
        "id": "9BLavi4quguG"
      },
      "source": [
        "mask_params = {\n",
        "    'mask_prob':config['train_mask_prob'],\n",
        "    'avail_train_y': 0,\n",
        "    'test_mask':config['train_mask_prob']\n",
        "}"
      ],
      "execution_count": 24,
      "outputs": []
    },
    {
      "cell_type": "code",
      "metadata": {
        "id": "oXO_QNFBu9Ig",
        "outputId": "a0b99b66-6295-450f-b2bb-219b351e6f3a",
        "colab": {
          "base_uri": "https://localhost:8080/"
        }
      },
      "source": [
        "config['mask_prob']"
      ],
      "execution_count": 25,
      "outputs": [
        {
          "output_type": "execute_result",
          "data": {
            "text/plain": [
              "0"
            ]
          },
          "metadata": {
            "tags": []
          },
          "execution_count": 25
        }
      ]
    },
    {
      "cell_type": "code",
      "metadata": {
        "id": "OcyMUL0Hu_sx"
      },
      "source": [
        "pt_mask_params = {\n",
        "    'mask_prob':0,\n",
        "    'avail_train_y':0,\n",
        "    'test_mask':0\n",
        "}"
      ],
      "execution_count": 26,
      "outputs": []
    },
    {
      "cell_type": "code",
      "metadata": {
        "id": "p4-6YhlRvynO"
      },
      "source": [
        "mask = np.ones_like(dls.train.dataset.xs.values)"
      ],
      "execution_count": 34,
      "outputs": []
    },
    {
      "cell_type": "code",
      "metadata": {
        "id": "NU3NhD_Wwq55"
      },
      "source": [
        "y_dim = 2"
      ],
      "execution_count": 38,
      "outputs": []
    },
    {
      "cell_type": "code",
      "metadata": {
        "id": "Fr7MJGTQw8iQ",
        "outputId": "0759af7b-ee27-4e17-ac8d-64481996bcb2",
        "colab": {
          "base_uri": "https://localhost:8080/"
        }
      },
      "source": [
        "dls.train.normalize.means"
      ],
      "execution_count": 40,
      "outputs": [
        {
          "output_type": "execute_result",
          "data": {
            "text/plain": [
              "{'age': 38.55587546546892,\n",
              " 'education-num': 10.078429222106934,\n",
              " 'fnlwgt': 189819.7968060194}"
            ]
          },
          "metadata": {
            "tags": []
          },
          "execution_count": 40
        }
      ]
    },
    {
      "cell_type": "code",
      "metadata": {
        "id": "2hZr4wmpw4lY"
      },
      "source": [
        "mean, std = dls.train.normalize.means, dls.train.normalize.stds"
      ],
      "execution_count": 41,
      "outputs": []
    },
    {
      "cell_type": "code",
      "metadata": {
        "id": "ZVcGoiSGxBoU",
        "outputId": "54056f60-9559-4f78-e35e-48d16d6e0f0e",
        "colab": {
          "base_uri": "https://localhost:8080/"
        }
      },
      "source": [
        "config['pretrain']"
      ],
      "execution_count": 42,
      "outputs": [
        {
          "output_type": "execute_result",
          "data": {
            "text/plain": [
              "False"
            ]
          },
          "metadata": {
            "tags": []
          },
          "execution_count": 42
        }
      ]
    },
    {
      "cell_type": "code",
      "metadata": {
        "id": "xO9-Hd1Gxku-",
        "outputId": "ca9c18c4-2321-4b5f-a7f9-1c518df06f9e",
        "colab": {
          "base_uri": "https://localhost:8080/"
        }
      },
      "source": [
        "dls.train.categorify.classes"
      ],
      "execution_count": 47,
      "outputs": [
        {
          "output_type": "execute_result",
          "data": {
            "text/plain": [
              "{'education': ['#na#', '10th', '11th', '12th', '1st-4th', '5th-6th', '7th-8th', '9th', 'Assoc-acdm', 'Assoc-voc', 'Bachelors', 'Doctorate', 'HS-grad', 'Masters', 'Preschool', 'Prof-school', 'Some-college'],\n",
              " 'education-num_na': ['#na#', False, True],\n",
              " 'marital-status': ['#na#', 'Divorced', 'Married-AF-spouse', 'Married-civ-spouse', 'Married-spouse-absent', 'Never-married', 'Separated', 'Widowed'],\n",
              " 'occupation': ['#na#', '?', 'Adm-clerical', 'Armed-Forces', 'Craft-repair', 'Exec-managerial', 'Farming-fishing', 'Handlers-cleaners', 'Machine-op-inspct', 'Other-service', 'Priv-house-serv', 'Prof-specialty', 'Protective-serv', 'Sales', 'Tech-support', 'Transport-moving'],\n",
              " 'race': ['#na#', 'Amer-Indian-Eskimo', 'Asian-Pac-Islander', 'Black', 'Other', 'White'],\n",
              " 'relationship': ['#na#', 'Husband', 'Not-in-family', 'Other-relative', 'Own-child', 'Unmarried', 'Wife'],\n",
              " 'workclass': ['#na#', '?', 'Federal-gov', 'Local-gov', 'Never-worked', 'Private', 'Self-emp-inc', 'Self-emp-not-inc', 'State-gov', 'Without-pay']}"
            ]
          },
          "metadata": {
            "tags": []
          },
          "execution_count": 47
        }
      ]
    },
    {
      "cell_type": "code",
      "metadata": {
        "id": "fD9RPT9HyQcc"
      },
      "source": [
        "categorical_dims = {o:len(i) for _, (o,i) in enumerate(dls.train.categorify.classes.items())}"
      ],
      "execution_count": 51,
      "outputs": []
    },
    {
      "cell_type": "code",
      "metadata": {
        "id": "IjF9kBMXyo8K",
        "outputId": "8a35e955-40be-41eb-db1e-be04bf7fa0cf",
        "colab": {
          "base_uri": "https://localhost:8080/"
        }
      },
      "source": [
        "categorical_dims"
      ],
      "execution_count": 52,
      "outputs": [
        {
          "output_type": "execute_result",
          "data": {
            "text/plain": [
              "{'education': 17,\n",
              " 'education-num_na': 3,\n",
              " 'marital-status': 8,\n",
              " 'occupation': 16,\n",
              " 'race': 6,\n",
              " 'relationship': 7,\n",
              " 'workclass': 10}"
            ]
          },
          "metadata": {
            "tags": []
          },
          "execution_count": 52
        }
      ]
    },
    {
      "cell_type": "code",
      "metadata": {
        "id": "VENnFZg_yqg3"
      },
      "source": [
        "y_dim = 2"
      ],
      "execution_count": 53,
      "outputs": []
    },
    {
      "cell_type": "code",
      "metadata": {
        "id": "5TqLo0fPy274",
        "outputId": "e84cae1b-12fe-4e46-c505-0389ebf99b77",
        "colab": {
          "base_uri": "https://localhost:8080/"
        }
      },
      "source": [
        "config['ssl_avail_y']"
      ],
      "execution_count": 54,
      "outputs": [
        {
          "output_type": "execute_result",
          "data": {
            "text/plain": [
              "0"
            ]
          },
          "metadata": {
            "tags": []
          },
          "execution_count": 54
        }
      ]
    },
    {
      "cell_type": "code",
      "metadata": {
        "id": "8ChfHBTny-dU"
      },
      "source": [
        "train_bsize = config['batchsize']"
      ],
      "execution_count": 55,
      "outputs": []
    },
    {
      "cell_type": "code",
      "metadata": {
        "id": "1fogLm7PzCx0",
        "outputId": "91a05a14-36e9-4136-e8db-32ad2e80fd5c",
        "colab": {
          "base_uri": "https://localhost:8080/"
        }
      },
      "source": [
        "train_bsize"
      ],
      "execution_count": 56,
      "outputs": [
        {
          "output_type": "execute_result",
          "data": {
            "text/plain": [
              "256"
            ]
          },
          "metadata": {
            "tags": []
          },
          "execution_count": 56
        }
      ]
    },
    {
      "cell_type": "code",
      "metadata": {
        "id": "kOo6ss7FzsI1",
        "outputId": "c22ae82d-2d3d-4d40-83a1-5fe5ecc1f80b",
        "colab": {
          "base_uri": "https://localhost:8080/"
        }
      },
      "source": [
        "categorical_dims.values()"
      ],
      "execution_count": 58,
      "outputs": [
        {
          "output_type": "execute_result",
          "data": {
            "text/plain": [
              "dict_values([10, 17, 8, 16, 7, 6, 3])"
            ]
          },
          "metadata": {
            "tags": []
          },
          "execution_count": 58
        }
      ]
    },
    {
      "cell_type": "code",
      "metadata": {
        "id": "UGfSFH6Vz4w3",
        "outputId": "17926f59-d5fe-47d5-9b95-a28248e0a176",
        "colab": {
          "base_uri": "https://localhost:8080/"
        }
      },
      "source": [
        "categorical_dims.values()"
      ],
      "execution_count": 65,
      "outputs": [
        {
          "output_type": "execute_result",
          "data": {
            "text/plain": [
              "dict_values([10, 17, 8, 16, 7, 6, 3])"
            ]
          },
          "metadata": {
            "tags": []
          },
          "execution_count": 65
        }
      ]
    },
    {
      "cell_type": "code",
      "metadata": {
        "id": "g9joPJ9OzDWI"
      },
      "source": [
        "cat_dims = np.append(np.array([10,17,8,16,7,6,3]), np.array([2])).astype(int)"
      ],
      "execution_count": 66,
      "outputs": []
    },
    {
      "cell_type": "code",
      "metadata": {
        "id": "Y1g0o_xjzm7g",
        "outputId": "9884deca-9da0-45e2-d8af-751d51b683cc",
        "colab": {
          "base_uri": "https://localhost:8080/"
        }
      },
      "source": [
        "cat_dims"
      ],
      "execution_count": 67,
      "outputs": [
        {
          "output_type": "execute_result",
          "data": {
            "text/plain": [
              "array([10, 17,  8, 16,  7,  6,  3,  2])"
            ]
          },
          "metadata": {
            "tags": []
          },
          "execution_count": 67
        }
      ]
    },
    {
      "cell_type": "code",
      "metadata": {
        "id": "j8VSF3k10Kd8",
        "outputId": "45377fda-628f-4df4-caea-8f2da68ecdd7",
        "colab": {
          "base_uri": "https://localhost:8080/"
        }
      },
      "source": [
        "dls.cont_names"
      ],
      "execution_count": 68,
      "outputs": [
        {
          "output_type": "execute_result",
          "data": {
            "text/plain": [
              "(#3) ['age','fnlwgt','education-num']"
            ]
          },
          "metadata": {
            "tags": []
          },
          "execution_count": 68
        }
      ]
    },
    {
      "cell_type": "code",
      "metadata": {
        "id": "xW1qPQEI0OP3",
        "outputId": "684285b0-fa47-4ca6-aed9-f89c8a586cf0",
        "colab": {
          "base_uri": "https://localhost:8080/"
        }
      },
      "source": [
        "config['embedding_size']"
      ],
      "execution_count": 69,
      "outputs": [
        {
          "output_type": "execute_result",
          "data": {
            "text/plain": [
              "32"
            ]
          },
          "metadata": {
            "tags": []
          },
          "execution_count": 69
        }
      ]
    },
    {
      "cell_type": "code",
      "metadata": {
        "id": "DaSpAxTa0ozR",
        "outputId": "0cdbbee6-135c-4268-96cd-47af5ce370cc",
        "colab": {
          "base_uri": "https://localhost:8080/",
          "height": 35
        }
      },
      "source": [
        "config['cont_embeddings']"
      ],
      "execution_count": 70,
      "outputs": [
        {
          "output_type": "execute_result",
          "data": {
            "application/vnd.google.colaboratory.intrinsic+json": {
              "type": "string"
            },
            "text/plain": [
              "'MLP'"
            ]
          },
          "metadata": {
            "tags": []
          },
          "execution_count": 70
        }
      ]
    },
    {
      "cell_type": "code",
      "metadata": {
        "id": "c53EIVS80s3c",
        "outputId": "1d0af278-9efb-488d-8a3d-de0af2d557f4",
        "colab": {
          "base_uri": "https://localhost:8080/",
          "height": 35
        }
      },
      "source": [
        "config['attentiontype']"
      ],
      "execution_count": 71,
      "outputs": [
        {
          "output_type": "execute_result",
          "data": {
            "application/vnd.google.colaboratory.intrinsic+json": {
              "type": "string"
            },
            "text/plain": [
              "'colrow'"
            ]
          },
          "metadata": {
            "tags": []
          },
          "execution_count": 71
        }
      ]
    },
    {
      "cell_type": "code",
      "metadata": {
        "id": "pFFwz-L31nR-",
        "outputId": "42374bb6-79ec-4b55-e20b-a6790b23b728",
        "colab": {
          "base_uri": "https://localhost:8080/",
          "height": 35
        }
      },
      "source": [
        "config['final_mlp_style']"
      ],
      "execution_count": 72,
      "outputs": [
        {
          "output_type": "execute_result",
          "data": {
            "application/vnd.google.colaboratory.intrinsic+json": {
              "type": "string"
            },
            "text/plain": [
              "'sep'"
            ]
          },
          "metadata": {
            "tags": []
          },
          "execution_count": 72
        }
      ]
    },
    {
      "cell_type": "code",
      "metadata": {
        "id": "NOqHty7Xz_vS"
      },
      "source": [
        "model = SAINT(\n",
        "    categories = tuple(cat_dims),\n",
        "    num_continuous = len(dls.cont_names),\n",
        "    dim = config['embedding_size'],\n",
        "    dim_out = 1,\n",
        "    depth = config['transformer_depth'],\n",
        "    heads = config['attention_heads'],\n",
        "    attn_dropout = config['attention_dropout'],\n",
        "    ff_dropout = config['ff_dropout'],\n",
        "    mlp_hidden_mults = (4,2),\n",
        "    continuous_mean_std = (mean,std),\n",
        "    cont_embeddings = config['cont_embeddings'],\n",
        "    attentiontype = config['attentiontype'],\n",
        "    final_mlp_style = config['final_mlp_style'],\n",
        "    y_dim = 1\n",
        ")"
      ],
      "execution_count": 73,
      "outputs": []
    },
    {
      "cell_type": "code",
      "metadata": {
        "id": "2m7YIltz1sh2",
        "outputId": "68c79ea6-dd10-47e8-cd78-48aa26809c17",
        "colab": {
          "base_uri": "https://localhost:8080/"
        }
      },
      "source": [
        "mask.shape"
      ],
      "execution_count": 81,
      "outputs": [
        {
          "output_type": "execute_result",
          "data": {
            "text/plain": [
              "(26049, 10)"
            ]
          },
          "metadata": {
            "tags": []
          },
          "execution_count": 81
        }
      ]
    },
    {
      "cell_type": "code",
      "metadata": {
        "id": "BekZJifK5ZMP"
      },
      "source": [
        "from augmentations import embed_data_mask"
      ],
      "execution_count": 87,
      "outputs": []
    },
    {
      "cell_type": "code",
      "metadata": {
        "id": "WSOp-Ty15l-_",
        "outputId": "b006f7b7-79ef-4fd3-d41c-88707a407e66",
        "colab": {
          "base_uri": "https://localhost:8080/"
        }
      },
      "source": [
        "cat.shape, cont.shape"
      ],
      "execution_count": 88,
      "outputs": [
        {
          "output_type": "execute_result",
          "data": {
            "text/plain": [
              "(torch.Size([64, 7]), torch.Size([64, 3]))"
            ]
          },
          "metadata": {
            "tags": []
          },
          "execution_count": 88
        }
      ]
    },
    {
      "cell_type": "code",
      "metadata": {
        "id": "UGXVHWjS52wg",
        "outputId": "1fa82b24-c870-446d-cee6-462c2839831f",
        "colab": {
          "base_uri": "https://localhost:8080/"
        }
      },
      "source": [
        "mask"
      ],
      "execution_count": 89,
      "outputs": [
        {
          "output_type": "execute_result",
          "data": {
            "text/plain": [
              "array([[1., 1., 1., ..., 1., 1., 1.],\n",
              "       [1., 1., 1., ..., 1., 1., 1.],\n",
              "       [1., 1., 1., ..., 1., 1., 1.],\n",
              "       ...,\n",
              "       [1., 1., 1., ..., 1., 1., 1.],\n",
              "       [1., 1., 1., ..., 1., 1., 1.],\n",
              "       [1., 1., 1., ..., 1., 1., 1.]])"
            ]
          },
          "metadata": {
            "tags": []
          },
          "execution_count": 89
        }
      ]
    },
    {
      "cell_type": "code",
      "metadata": {
        "id": "k6mji-Ky71z3",
        "outputId": "82d77dad-0412-40ab-b1b9-d8dc62167ef3",
        "colab": {
          "base_uri": "https://localhost:8080/"
        }
      },
      "source": [
        "np.ones_like(np.empty((64,8))).shape"
      ],
      "execution_count": 128,
      "outputs": [
        {
          "output_type": "execute_result",
          "data": {
            "text/plain": [
              "(64, 8)"
            ]
          },
          "metadata": {
            "tags": []
          },
          "execution_count": 128
        }
      ]
    },
    {
      "cell_type": "code",
      "metadata": {
        "id": "Wv5VIQ5953xZ"
      },
      "source": [
        "cat_mask = np.ones_like(np.empty((64,8)))\n",
        "cont_mask = np.ones_like(cont)"
      ],
      "execution_count": 129,
      "outputs": []
    },
    {
      "cell_type": "code",
      "metadata": {
        "id": "d-wOrzd-8K0x"
      },
      "source": [
        "cat_mask[:,-1] = 0"
      ],
      "execution_count": 139,
      "outputs": []
    },
    {
      "cell_type": "code",
      "metadata": {
        "id": "uAjp1RLj6VIe",
        "outputId": "af410b44-82e5-4fd3-d01d-23151d7cbe68",
        "colab": {
          "base_uri": "https://localhost:8080/"
        }
      },
      "source": [
        "cat_mask"
      ],
      "execution_count": 140,
      "outputs": [
        {
          "output_type": "execute_result",
          "data": {
            "text/plain": [
              "tensor([[1., 1., 1., 1., 1., 1., 1., 0.],\n",
              "        [1., 1., 1., 1., 1., 1., 1., 0.],\n",
              "        [1., 1., 1., 1., 1., 1., 1., 0.],\n",
              "        [1., 1., 1., 1., 1., 1., 1., 0.],\n",
              "        [1., 1., 1., 1., 1., 1., 1., 0.],\n",
              "        [1., 1., 1., 1., 1., 1., 1., 0.],\n",
              "        [1., 1., 1., 1., 1., 1., 1., 0.],\n",
              "        [1., 1., 1., 1., 1., 1., 1., 0.],\n",
              "        [1., 1., 1., 1., 1., 1., 1., 0.],\n",
              "        [1., 1., 1., 1., 1., 1., 1., 0.],\n",
              "        [1., 1., 1., 1., 1., 1., 1., 0.],\n",
              "        [1., 1., 1., 1., 1., 1., 1., 0.],\n",
              "        [1., 1., 1., 1., 1., 1., 1., 0.],\n",
              "        [1., 1., 1., 1., 1., 1., 1., 0.],\n",
              "        [1., 1., 1., 1., 1., 1., 1., 0.],\n",
              "        [1., 1., 1., 1., 1., 1., 1., 0.],\n",
              "        [1., 1., 1., 1., 1., 1., 1., 0.],\n",
              "        [1., 1., 1., 1., 1., 1., 1., 0.],\n",
              "        [1., 1., 1., 1., 1., 1., 1., 0.],\n",
              "        [1., 1., 1., 1., 1., 1., 1., 0.],\n",
              "        [1., 1., 1., 1., 1., 1., 1., 0.],\n",
              "        [1., 1., 1., 1., 1., 1., 1., 0.],\n",
              "        [1., 1., 1., 1., 1., 1., 1., 0.],\n",
              "        [1., 1., 1., 1., 1., 1., 1., 0.],\n",
              "        [1., 1., 1., 1., 1., 1., 1., 0.],\n",
              "        [1., 1., 1., 1., 1., 1., 1., 0.],\n",
              "        [1., 1., 1., 1., 1., 1., 1., 0.],\n",
              "        [1., 1., 1., 1., 1., 1., 1., 0.],\n",
              "        [1., 1., 1., 1., 1., 1., 1., 0.],\n",
              "        [1., 1., 1., 1., 1., 1., 1., 0.],\n",
              "        [1., 1., 1., 1., 1., 1., 1., 0.],\n",
              "        [1., 1., 1., 1., 1., 1., 1., 0.],\n",
              "        [1., 1., 1., 1., 1., 1., 1., 0.],\n",
              "        [1., 1., 1., 1., 1., 1., 1., 0.],\n",
              "        [1., 1., 1., 1., 1., 1., 1., 0.],\n",
              "        [1., 1., 1., 1., 1., 1., 1., 0.],\n",
              "        [1., 1., 1., 1., 1., 1., 1., 0.],\n",
              "        [1., 1., 1., 1., 1., 1., 1., 0.],\n",
              "        [1., 1., 1., 1., 1., 1., 1., 0.],\n",
              "        [1., 1., 1., 1., 1., 1., 1., 0.],\n",
              "        [1., 1., 1., 1., 1., 1., 1., 0.],\n",
              "        [1., 1., 1., 1., 1., 1., 1., 0.],\n",
              "        [1., 1., 1., 1., 1., 1., 1., 0.],\n",
              "        [1., 1., 1., 1., 1., 1., 1., 0.],\n",
              "        [1., 1., 1., 1., 1., 1., 1., 0.],\n",
              "        [1., 1., 1., 1., 1., 1., 1., 0.],\n",
              "        [1., 1., 1., 1., 1., 1., 1., 0.],\n",
              "        [1., 1., 1., 1., 1., 1., 1., 0.],\n",
              "        [1., 1., 1., 1., 1., 1., 1., 0.],\n",
              "        [1., 1., 1., 1., 1., 1., 1., 0.],\n",
              "        [1., 1., 1., 1., 1., 1., 1., 0.],\n",
              "        [1., 1., 1., 1., 1., 1., 1., 0.],\n",
              "        [1., 1., 1., 1., 1., 1., 1., 0.],\n",
              "        [1., 1., 1., 1., 1., 1., 1., 0.],\n",
              "        [1., 1., 1., 1., 1., 1., 1., 0.],\n",
              "        [1., 1., 1., 1., 1., 1., 1., 0.],\n",
              "        [1., 1., 1., 1., 1., 1., 1., 0.],\n",
              "        [1., 1., 1., 1., 1., 1., 1., 0.],\n",
              "        [1., 1., 1., 1., 1., 1., 1., 0.],\n",
              "        [1., 1., 1., 1., 1., 1., 1., 0.],\n",
              "        [1., 1., 1., 1., 1., 1., 1., 0.],\n",
              "        [1., 1., 1., 1., 1., 1., 1., 0.],\n",
              "        [1., 1., 1., 1., 1., 1., 1., 0.],\n",
              "        [1., 1., 1., 1., 1., 1., 1., 0.]])"
            ]
          },
          "metadata": {
            "tags": []
          },
          "execution_count": 140
        }
      ]
    },
    {
      "cell_type": "code",
      "metadata": {
        "id": "2mnFO7U26bUC",
        "outputId": "79fe34be-0095-48c9-bcc5-10512959c99d",
        "colab": {
          "base_uri": "https://localhost:8080/"
        }
      },
      "source": [
        "len(dls.cat_names)"
      ],
      "execution_count": 131,
      "outputs": [
        {
          "output_type": "execute_result",
          "data": {
            "text/plain": [
              "7"
            ]
          },
          "metadata": {
            "tags": []
          },
          "execution_count": 131
        }
      ]
    },
    {
      "cell_type": "code",
      "metadata": {
        "id": "AMoE4t0V7Fej"
      },
      "source": [
        "cat_mask = tensor(cat_mask)\n",
        "cont_mask = tensor(cont_mask)"
      ],
      "execution_count": 141,
      "outputs": []
    },
    {
      "cell_type": "code",
      "metadata": {
        "id": "An3II-VZ7RjL"
      },
      "source": [
        "y_mask = tensor(np.ones_like(y))"
      ],
      "execution_count": 142,
      "outputs": []
    },
    {
      "cell_type": "code",
      "metadata": {
        "id": "zFBvz8Ok8DbJ",
        "outputId": "78c6855d-0b10-4f47-ecc7-6a0fac28cf11",
        "colab": {
          "base_uri": "https://localhost:8080/"
        }
      },
      "source": [
        "torch.cat((cat_mask,y_mask), dim=1).shape"
      ],
      "execution_count": 143,
      "outputs": [
        {
          "output_type": "execute_result",
          "data": {
            "text/plain": [
              "torch.Size([64, 9])"
            ]
          },
          "metadata": {
            "tags": []
          },
          "execution_count": 143
        }
      ]
    },
    {
      "cell_type": "code",
      "metadata": {
        "id": "38w_YEue5uuv"
      },
      "source": [
        "with torch.no_grad():\n",
        "    model.eval()\n",
        "    _ , x_categ_enc, x_cont_enc = embed_data_mask(torch.cat((cat, y), dim=-1), \n",
        "                                                  cont, \n",
        "                                                  cat_mask.int(), \n",
        "                                                  cont_mask.int(), \n",
        "                                                  model,\n",
        "                                                  False)  \n",
        "    reps = model.transformer(x_categ_enc, x_cont_enc)\n",
        "    # Train embeds for our ys\n",
        "    y_reps = reps[:,len(cat_dims)-1,:]\n",
        "    y_outs = model.mlpfory(y_reps)"
      ],
      "execution_count": 150,
      "outputs": []
    },
    {
      "cell_type": "code",
      "metadata": {
        "id": "3lPwB-cr5tNO",
        "outputId": "a9cfc872-2b7a-4473-8af9-1dfa519d98ee",
        "colab": {
          "base_uri": "https://localhost:8080/"
        }
      },
      "source": [
        "x_categ_enc.shape"
      ],
      "execution_count": 146,
      "outputs": [
        {
          "output_type": "execute_result",
          "data": {
            "text/plain": [
              "torch.Size([64, 8, 32])"
            ]
          },
          "metadata": {
            "tags": []
          },
          "execution_count": 146
        }
      ]
    },
    {
      "cell_type": "code",
      "metadata": {
        "id": "fBOUaMGm8l7q",
        "outputId": "fc049a08-1f0a-455b-b798-efa0bed28026",
        "colab": {
          "base_uri": "https://localhost:8080/"
        }
      },
      "source": [
        "x_cont_enc.shape"
      ],
      "execution_count": 148,
      "outputs": [
        {
          "output_type": "execute_result",
          "data": {
            "text/plain": [
              "torch.Size([64, 3, 32])"
            ]
          },
          "metadata": {
            "tags": []
          },
          "execution_count": 148
        }
      ]
    },
    {
      "cell_type": "code",
      "metadata": {
        "id": "Mn1tf9oQ8pp2"
      },
      "source": [
        ""
      ],
      "execution_count": null,
      "outputs": []
    },
    {
      "cell_type": "code",
      "metadata": {
        "id": "GDPqvOFS4UdX",
        "outputId": "60a388b9-f602-4b4e-f91a-f992a600d16d",
        "colab": {
          "base_uri": "https://localhost:8080/"
        }
      },
      "source": [
        "with torch.no_grad():\n",
        "    model.eval()\n",
        "    model.cuda()\n",
        "    out = model()"
      ],
      "execution_count": 84,
      "outputs": [
        {
          "output_type": "execute_result",
          "data": {
            "text/plain": [
              "tensor([[ 5, 12,  5, 13,  2,  5,  1],\n",
              "        [ 5,  2,  5,  2,  4,  3,  1],\n",
              "        [ 6,  8,  3,  5,  1,  5,  1],\n",
              "        [ 5,  2,  3, 15,  1,  5,  1],\n",
              "        [ 2, 10,  5, 11,  2,  5,  1],\n",
              "        [ 5, 13,  1, 11,  5,  5,  1],\n",
              "        [ 5, 16,  1, 11,  2,  5,  1],\n",
              "        [ 5,  5,  3, 15,  1,  3,  1],\n",
              "        [ 5,  2,  1, 12,  2,  5,  1],\n",
              "        [ 3, 10,  3,  5,  1,  5,  1],\n",
              "        [ 3, 12,  3,  5,  1,  5,  1],\n",
              "        [ 5, 16,  5, 13,  2,  5,  1],\n",
              "        [ 5, 16,  1, 11,  4,  5,  1],\n",
              "        [ 1, 12,  1,  1,  4,  5,  1],\n",
              "        [ 5, 12,  1,  2,  5,  5,  1],\n",
              "        [ 5,  6,  3,  4,  1,  5,  1],\n",
              "        [ 5,  1,  7,  8,  2,  5,  1],\n",
              "        [ 5, 16,  1,  5,  2,  5,  1],\n",
              "        [ 3, 16,  5,  9,  4,  3,  1],\n",
              "        [ 5,  2,  3,  8,  1,  5,  1],\n",
              "        [ 7, 12,  1, 13,  2,  5,  1],\n",
              "        [ 7, 16,  3,  4,  1,  5,  1],\n",
              "        [ 5,  1,  5,  9,  4,  5,  1],\n",
              "        [ 5, 12,  1,  4,  2,  5,  1],\n",
              "        [ 5, 10,  3, 11,  1,  5,  1],\n",
              "        [ 5, 12,  7,  5,  2,  3,  1],\n",
              "        [ 5, 13,  3,  5,  1,  5,  1],\n",
              "        [ 5,  8,  3, 11,  6,  5,  1],\n",
              "        [ 7, 12,  3,  5,  1,  5,  1],\n",
              "        [ 5, 12,  3,  7,  1,  5,  1],\n",
              "        [ 5, 12,  3,  5,  1,  5,  1],\n",
              "        [ 3, 12,  3,  2,  1,  5,  1],\n",
              "        [ 5, 10,  3,  5,  1,  5,  1],\n",
              "        [ 5, 16,  3,  6,  1,  5,  1],\n",
              "        [ 5, 10,  3,  9,  6,  2,  1],\n",
              "        [ 3, 10,  5,  2,  5,  5,  1],\n",
              "        [ 5, 13,  5, 11,  2,  5,  1],\n",
              "        [ 3,  7,  3,  5,  1,  5,  1],\n",
              "        [ 1, 16,  5,  1,  4,  5,  1],\n",
              "        [ 7, 12,  3,  4,  1,  5,  1],\n",
              "        [ 5, 12,  4, 15,  2,  4,  1],\n",
              "        [ 5, 16,  1,  9,  2,  5,  1],\n",
              "        [ 5, 12,  1,  8,  3,  5,  1],\n",
              "        [ 5, 10,  3, 13,  1,  5,  1],\n",
              "        [ 3, 13,  3, 11,  6,  5,  1],\n",
              "        [ 7, 12,  3,  6,  1,  5,  1],\n",
              "        [ 5,  2,  5,  9,  4,  5,  1],\n",
              "        [ 5, 12,  5,  9,  4,  5,  1],\n",
              "        [ 5, 12,  7,  5,  2,  5,  1],\n",
              "        [ 6, 12,  6, 13,  5,  5,  1],\n",
              "        [ 5, 10,  1,  5,  2,  5,  1],\n",
              "        [ 5,  9,  3,  4,  1,  5,  1],\n",
              "        [ 7, 10,  5,  6,  2,  5,  1],\n",
              "        [ 5, 12,  3, 15,  1,  3,  1],\n",
              "        [ 5,  9,  3,  4,  1,  5,  1],\n",
              "        [ 5, 10,  3,  5,  1,  5,  1],\n",
              "        [ 1, 13,  5,  1,  2,  5,  1],\n",
              "        [ 5,  6,  3,  8,  1,  5,  1],\n",
              "        [ 5, 12,  5, 13,  2,  5,  1],\n",
              "        [ 5,  2,  5,  4,  2,  2,  1],\n",
              "        [ 5,  1,  5, 13,  3,  5,  1],\n",
              "        [ 5, 16,  3,  5,  1,  5,  1],\n",
              "        [ 5, 10,  3, 13,  1,  5,  1],\n",
              "        [ 5, 12,  5,  4,  2,  5,  1]])"
            ]
          },
          "metadata": {
            "tags": []
          },
          "execution_count": 84
        }
      ]
    },
    {
      "cell_type": "code",
      "metadata": {
        "id": "XVg0n4Qp4Vhb"
      },
      "source": [
        ""
      ],
      "execution_count": null,
      "outputs": []
    }
  ]
}